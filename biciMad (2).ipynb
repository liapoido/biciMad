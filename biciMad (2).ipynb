{
 "cells": [
  {
   "cell_type": "markdown",
   "id": "60acd67d",
   "metadata": {},
   "source": [
    "# BiciMAD\n",
    "Practica de Sandra Fjelkestam, Greg Coletti, Lia Poidomani\n",
    "\n",
    "We are about to analyse the dataset kindly offered by BiciMad at this link\n",
    "https://opendata.emtmadrid.es/Datos-estaticos/Datos-generales-(1). \n"
   ]
  },
  {
   "cell_type": "code",
   "execution_count": 29,
   "id": "9c2573e3",
   "metadata": {},
   "outputs": [],
   "source": [
    "from pyspark import SparkContext\n",
    "import matplotlib.pyplot as plt\n",
    "import statistics as stats\n",
    "import json\n",
    "from tabulate import tabulate\n",
    "\n",
    "sc = SparkContext()"
   ]
  },
  {
   "cell_type": "markdown",
   "id": "254afb98",
   "metadata": {},
   "source": [
    "First we take a look at the structure of the data"
   ]
  },
  {
   "cell_type": "code",
   "execution_count": 6,
   "id": "f6df3be9",
   "metadata": {},
   "outputs": [
    {
     "name": "stdout",
     "output_type": "stream",
     "text": [
      "{ \"_id\" : { \"$oid\" : \"5c085aae2f384324b8a10925\" }, \"user_day_code\" : \"39d847f3af0e9d8ab5f29fa7b5af3612c87e84f4d35a1cb479edf8d38f1ce8ac\", \"idplug_base\" : 7, \"user_type\" : 3, \"idunplug_base\" : 7, \"travel_time\" : 16, \"idunplug_station\" : 75, \"ageRange\" : 5, \"idplug_station\" : 75, \"unplug_hourTime\" : { \"$date\" : \"2018-12-01T00:00:00.000+0100\" }, \"zip_code\" : \"\" }\r",
      "\r\n"
     ]
    }
   ],
   "source": [
    "!head -1 201812_Usage_Bicimad.json"
   ]
  },
  {
   "cell_type": "markdown",
   "id": "b8aced05",
   "metadata": {},
   "source": [
    "The data comes in the structure above and each column in the database is decribed by the foloowing way. \n",
    "\n",
    "* _id: identification of the ride\n",
    "\n",
    "\n",
    "* user_day_code: the user code. For same date, all the rides have the same code.\n",
    "\n",
    "\n",
    "* idunplug_station: id number of the origin station\n",
    "\n",
    "\n",
    "* idunplug_base: id number of origin base (a base is the \"parking spot\" for bike at the station)\n",
    "\n",
    "\n",
    "* idplug_station: id number of destination station\n",
    "\n",
    "\n",
    "* idplug_base: id number of destination base\n",
    "\n",
    "\n",
    "* unplug_hourTime: time the bike is unpluged\n",
    "\n",
    "\n",
    "* travel_time: time in seconds of the bikeride\n",
    "\n",
    "\n",
    "* user_type: type of user. \n",
    "    it is defined as:\n",
    "     - 0: not defined\n",
    "     - 1: anual user\n",
    "     - 2: ocasional user\n",
    "     - 3: worker of bicimad\n",
    "\n",
    "\n",
    "* ageRange: age range of the user.\n",
    "    it is defined as\n",
    "        - 0: not defined\n",
    "        - 1: between 0 and 16 years\n",
    "        - 2: between 17 and 18 years\n",
    "        - 3: between 19 and 26 years\n",
    "        - 4: between 27 and 40 years\n",
    "        - 5: between 41 and 65 years\n",
    "        - 6: more than 65 years\n",
    "\n",
    "\n",
    "* zip_code: postal code of the user"
   ]
  },
  {
   "cell_type": "markdown",
   "id": "bef17b33",
   "metadata": {},
   "source": [
    "Now we create the a mapper function to get a dictionary"
   ]
  },
  {
   "cell_type": "code",
   "execution_count": 7,
   "id": "4cfd3403",
   "metadata": {},
   "outputs": [],
   "source": [
    "rdd = {} #dictionary"
   ]
  },
  {
   "cell_type": "code",
   "execution_count": 8,
   "id": "e787e27b",
   "metadata": {},
   "outputs": [],
   "source": [
    "def mapper(line):\n",
    "    data = json.loads(line)\n",
    "    #oid = data['oid']\n",
    "    user_day_code = data['user_day_code']  \n",
    "    idplug_base = data['idplug_base']\n",
    "    user_type = data['user_type']\n",
    "    idunplug_base = data['idunplug_base']\n",
    "    travel_time = data ['travel_time']   \n",
    "    start_station = data['idunplug_station']\n",
    "    age = data['ageRange']\n",
    "    end_station = data['idplug_station']\n",
    "    year = data['unplug_hourTime']['$date'][0:4]\n",
    "    month = data['unplug_hourTime']['$date'][5:7]\n",
    "    day = data['unplug_hourTime']['$date'][8:10]\n",
    "    hour = data['unplug_hourTime']['$date'][11:19]\n",
    "    zip_code = data['zip_code']\n",
    "\n",
    "    return {'user_day_code': user_day_code,\n",
    "            'idplug_base': idplug_base,\n",
    "            'user_type': user_type,\n",
    "            'idunplug_base': idunplug_base,\n",
    "            'travel_time': travel_time,\n",
    "            'start_station': start_station,\n",
    "            'end_station': end_station,\n",
    "            'age': age,\n",
    "            'year': year,\n",
    "            'month': month,\n",
    "            'day': day,\n",
    "            'hour': hour,\n",
    "            'zip_code': zip_code}"
   ]
  },
  {
   "cell_type": "code",
   "execution_count": 9,
   "id": "a5aab780",
   "metadata": {},
   "outputs": [],
   "source": [
    "def file_name(i): #to get the file name\n",
    "    if len(str(i)) == 1:\n",
    "        file = '20180' + str(i)  + '_Usage_Bicimad.json'\n",
    "    else:\n",
    "        file = '2018' + str(i) + '_Usage_Bicimad.json'\n",
    "    return file\n",
    "    "
   ]
  },
  {
   "cell_type": "markdown",
   "id": "382f4af3",
   "metadata": {},
   "source": [
    "we create a RDD dataset"
   ]
  },
  {
   "cell_type": "code",
   "execution_count": 30,
   "id": "6acd4a6f",
   "metadata": {},
   "outputs": [
    {
     "name": "stdout",
     "output_type": "stream",
     "text": [
      "['201801_Usage_Bicimad.json', '201802_Usage_Bicimad.json', '201803_Usage_Bicimad.json', '201804_Usage_Bicimad.json', '201805_Usage_Bicimad.json', '201806_Usage_Bicimad.json', '201807_Usage_Bicimad.json', '201808_Usage_Bicimad.json', '201809_Usage_Bicimad.json', '201810_Usage_Bicimad.json', '201811_Usage_Bicimad.json', '201812_Usage_Bicimad.json']\n",
      "201801\n"
     ]
    }
   ],
   "source": [
    "rdd['2018'] = sc.emptyRDD()\n",
    "file_list = []\n",
    "for i in range(1,13):\n",
    "    file_list.append(file_name(i))\n",
    "     \n",
    "print(file_list)\n",
    "for filename in file_list:\n",
    "    #We refer to the file with this format YYYYMM\n",
    "    name = filename.split(\"_\")[0]\n",
    "    rdd[name] = sc.textFile(filename).map(mapper)\n",
    "    rdd['2018'] = rdd['2018'].union(rdd[name])\n",
    "    #DEBUG starts\n",
    "    print(name)\n",
    "    #DEBUG ends\n",
    "\n"
   ]
  },
  {
   "cell_type": "code",
   "execution_count": 17,
   "id": "8fb766ee",
   "metadata": {},
   "outputs": [
    {
     "name": "stderr",
     "output_type": "stream",
     "text": [
      "                                                                                \r"
     ]
    },
    {
     "data": {
      "text/plain": [
       "[{'user_day_code': '4a0786f7fef69c5b17b5975a41cce30f8519b41f07d35d4f171ea6d8801cfb58',\n",
       "  'idplug_base': 10,\n",
       "  'user_type': 1,\n",
       "  'idunplug_base': 15,\n",
       "  'travel_time': 211,\n",
       "  'start_station': 118,\n",
       "  'end_station': 160,\n",
       "  'age': 0,\n",
       "  'year': '2018',\n",
       "  'month': '01',\n",
       "  'day': '01',\n",
       "  'hour': '18:00:00',\n",
       "  'zip_code': ''}]"
      ]
     },
     "execution_count": 17,
     "metadata": {},
     "output_type": "execute_result"
    }
   ],
   "source": [
    "#the stucture of our dataset\n",
    "rdd['2018'].filter(lambda x: x['hour']=='18:00:00').take(1)"
   ]
  },
  {
   "cell_type": "markdown",
   "id": "95f1ec2f",
   "metadata": {},
   "source": [
    "\n",
    "\n",
    "Now we do the same for the station's data. First we peek at the structure"
   ]
  },
  {
   "cell_type": "code",
   "execution_count": 14,
   "id": "1b03db5f",
   "metadata": {},
   "outputs": [
    {
     "name": "stdout",
     "output_type": "stream",
     "text": [
      "head: Bicimad_Stations_201812.json: No such file or directory\r\n"
     ]
    }
   ],
   "source": [
    "!head -1 Bicimad_Stations_201812.json\n",
    "\n",
    "#!head -1 Bicimad_Estacions_201807.json #DOES NOT WORK"
   ]
  },
  {
   "cell_type": "code",
   "execution_count": 117,
   "id": "2760e65d",
   "metadata": {},
   "outputs": [],
   "source": [
    "rdd_station = {} #dictionary"
   ]
  },
  {
   "cell_type": "code",
   "execution_count": 118,
   "id": "7c7654c6",
   "metadata": {},
   "outputs": [],
   "source": [
    "def mapper_station(line):\n",
    "    data = json.loads(line)\n",
    "    activate = data['stations'][0]['activate']  \n",
    "    name = data['stations'][0]['name']\n",
    "    reservations_count = data['stations'][0]['reservations_count']\n",
    "    light = data['stations'][0]['light']\n",
    "    total_bases = data['stations'][0]['total_bases']   \n",
    "    free_bases = data['stations'][0]['free_bases']\n",
    "    number = data['stations'][0]['number']\n",
    "    longitude = data['stations'][0]['longitude']\n",
    "    no_available = data['stations'][0]['no_available']   \n",
    "    address = data['stations'][0]['address']\n",
    "    latitude = data['stations'][0]['latitude']\n",
    "    dock_bikes = data['stations'][0]['longitude']\n",
    "    iid = data['stations'][0]['id']\n",
    "    \n",
    "    return {#'activate': activate,\n",
    "            'name': name,\n",
    "            'reservations_count': reservations_count,\n",
    "            'light': light,\n",
    "            'total_bases': total_bases,\n",
    "            'free_bases': free_bases,\n",
    "            'number': number,\n",
    "            'longitude': longitude,\n",
    "            'no_available': no_available,\n",
    "            'address': address,\n",
    "            'latitude': latitude,\n",
    "            'dock_bikes': dock_bikes,\n",
    "            'id':iid}"
   ]
  },
  {
   "cell_type": "code",
   "execution_count": 119,
   "id": "efd6e31d",
   "metadata": {},
   "outputs": [
    {
     "name": "stdout",
     "output_type": "stream",
     "text": [
      "201812\n"
     ]
    }
   ],
   "source": [
    "rdd_station['2018'] = sc.emptyRDD()\n",
    "file_list = ['Bicimad_Stations_201812.json']\n",
    "#for i in range(1,13):\n",
    "#    file_list.append(file_name(i))\n",
    "#file_list[0] = 'Bicimad_Stations_201812.json'\n",
    "\n",
    "for filename in file_list:\n",
    "    #We refer to the file with this format YYYYMM\n",
    "    name = filename.split('_')[2].split('.')[0]\n",
    "    rdd_station[name] = sc.textFile(filename).map(mapper_station)\n",
    "    rdd_station['2018'] = rdd_station['2018'].union(rdd_station[name])\n",
    "    #DEBUG starts\n",
    "    print(name)\n",
    "    #DEBUG ends\n"
   ]
  },
  {
   "cell_type": "code",
   "execution_count": 120,
   "id": "191570bb",
   "metadata": {},
   "outputs": [
    {
     "data": {
      "text/plain": [
       "[{'name': 'Puerta del Sol A',\n",
       "  'reservations_count': 0,\n",
       "  'light': 2,\n",
       "  'total_bases': 24,\n",
       "  'free_bases': 13,\n",
       "  'number': '1a',\n",
       "  'longitude': '-3.7024255',\n",
       "  'no_available': 0,\n",
       "  'address': 'Puerta del Sol n� 1',\n",
       "  'latitude': '40.4168961',\n",
       "  'dock_bikes': '-3.7024255',\n",
       "  'id': 1},\n",
       " {'name': 'Puerta del Sol A',\n",
       "  'reservations_count': 0,\n",
       "  'light': 2,\n",
       "  'total_bases': 24,\n",
       "  'free_bases': 7,\n",
       "  'number': '1a',\n",
       "  'longitude': '-3.7024255',\n",
       "  'no_available': 0,\n",
       "  'address': 'Puerta del Sol n� 1',\n",
       "  'latitude': '40.4168961',\n",
       "  'dock_bikes': '-3.7024255',\n",
       "  'id': 1},\n",
       " {'name': 'Puerta del Sol A',\n",
       "  'reservations_count': 0,\n",
       "  'light': 2,\n",
       "  'total_bases': 24,\n",
       "  'free_bases': 15,\n",
       "  'number': '1a',\n",
       "  'longitude': '-3.7024255',\n",
       "  'no_available': 0,\n",
       "  'address': 'Puerta del Sol n� 1',\n",
       "  'latitude': '40.4168961',\n",
       "  'dock_bikes': '-3.7024255',\n",
       "  'id': 1},\n",
       " {'name': 'Puerta del Sol A',\n",
       "  'reservations_count': 0,\n",
       "  'light': 0,\n",
       "  'total_bases': 24,\n",
       "  'free_bases': 16,\n",
       "  'number': '1a',\n",
       "  'longitude': '-3.7024255',\n",
       "  'no_available': 0,\n",
       "  'address': 'Puerta del Sol n� 1',\n",
       "  'latitude': '40.4168961',\n",
       "  'dock_bikes': '-3.7024255',\n",
       "  'id': 1},\n",
       " {'name': 'Puerta del Sol A',\n",
       "  'reservations_count': 0,\n",
       "  'light': 0,\n",
       "  'total_bases': 24,\n",
       "  'free_bases': 16,\n",
       "  'number': '1a',\n",
       "  'longitude': '-3.7024255',\n",
       "  'no_available': 0,\n",
       "  'address': 'Puerta del Sol n� 1',\n",
       "  'latitude': '40.4168961',\n",
       "  'dock_bikes': '-3.7024255',\n",
       "  'id': 1},\n",
       " {'name': 'Puerta del Sol A',\n",
       "  'reservations_count': 0,\n",
       "  'light': 0,\n",
       "  'total_bases': 24,\n",
       "  'free_bases': 18,\n",
       "  'number': '1a',\n",
       "  'longitude': '-3.7024255',\n",
       "  'no_available': 0,\n",
       "  'address': 'Puerta del Sol n� 1',\n",
       "  'latitude': '40.4168961',\n",
       "  'dock_bikes': '-3.7024255',\n",
       "  'id': 1},\n",
       " {'name': 'Puerta del Sol A',\n",
       "  'reservations_count': 0,\n",
       "  'light': 2,\n",
       "  'total_bases': 24,\n",
       "  'free_bases': 14,\n",
       "  'number': '1a',\n",
       "  'longitude': '-3.7024255',\n",
       "  'no_available': 0,\n",
       "  'address': 'Puerta del Sol n� 1',\n",
       "  'latitude': '40.4168961',\n",
       "  'dock_bikes': '-3.7024255',\n",
       "  'id': 1},\n",
       " {'name': 'Puerta del Sol A',\n",
       "  'reservations_count': 0,\n",
       "  'light': 0,\n",
       "  'total_bases': 24,\n",
       "  'free_bases': 16,\n",
       "  'number': '1a',\n",
       "  'longitude': '-3.7024255',\n",
       "  'no_available': 0,\n",
       "  'address': 'Puerta del Sol n� 1',\n",
       "  'latitude': '40.4168961',\n",
       "  'dock_bikes': '-3.7024255',\n",
       "  'id': 1},\n",
       " {'name': 'Puerta del Sol A',\n",
       "  'reservations_count': 0,\n",
       "  'light': 2,\n",
       "  'total_bases': 24,\n",
       "  'free_bases': 15,\n",
       "  'number': '1a',\n",
       "  'longitude': '-3.7024255',\n",
       "  'no_available': 0,\n",
       "  'address': 'Puerta del Sol n� 1',\n",
       "  'latitude': '40.4168961',\n",
       "  'dock_bikes': '-3.7024255',\n",
       "  'id': 1},\n",
       " {'name': 'Puerta del Sol A',\n",
       "  'reservations_count': 0,\n",
       "  'light': 2,\n",
       "  'total_bases': 24,\n",
       "  'free_bases': 16,\n",
       "  'number': '1a',\n",
       "  'longitude': '-3.7024255',\n",
       "  'no_available': 0,\n",
       "  'address': 'Puerta del Sol n� 1',\n",
       "  'latitude': '40.4168961',\n",
       "  'dock_bikes': '-3.7024255',\n",
       "  'id': 1}]"
      ]
     },
     "execution_count": 120,
     "metadata": {},
     "output_type": "execute_result"
    }
   ],
   "source": [
    "#the stucture of our dataset\n",
    "rdd_station['2018'].take(10)"
   ]
  },
  {
   "cell_type": "markdown",
   "id": "dbd2c53c",
   "metadata": {},
   "source": [
    "## Análisis del tipo de usuarios\n",
    "In this section we analyse the variation among the different kind of users during the same period as before. BiciMAD saves the users in the following way:\n",
    "\n",
    "1: annual membership user\n",
    "\n",
    "2: occasional user\n",
    "\n",
    "3: BiciMAD employee \n"
   ]
  },
  {
   "cell_type": "code",
   "execution_count": 15,
   "id": "5634c22d",
   "metadata": {},
   "outputs": [
    {
     "name": "stderr",
     "output_type": "stream",
     "text": [
      "Traceback (most recent call last):                               (78 + 4) / 214]\n",
      "  File \"/Library/Frameworks/Python.framework/Versions/3.9/lib/python3.9/site-packages/pyspark/python/lib/pyspark.zip/pyspark/daemon.py\", line 186, in manager\n",
      "  File \"/Library/Frameworks/Python.framework/Versions/3.9/lib/python3.9/site-packages/pyspark/python/lib/pyspark.zip/pyspark/daemon.py\", line 74, in worker\n",
      "  File \"/Library/Frameworks/Python.framework/Versions/3.9/lib/python3.9/site-packages/pyspark/python/lib/pyspark.zip/pyspark/worker.py\", line 663, in main\n",
      "    if read_int(infile) == SpecialLengths.END_OF_STREAM:\n",
      "  File \"/Library/Frameworks/Python.framework/Versions/3.9/lib/python3.9/site-packages/pyspark/python/lib/pyspark.zip/pyspark/serializers.py\", line 564, in read_int\n",
      "    raise EOFError\n",
      "EOFError\n",
      "22/05/22 17:25:15 ERROR Executor: Exception in task 77.0 in stage 1.0 (TID 78)\n",
      "org.apache.spark.api.python.PythonException: Traceback (most recent call last):\n",
      "  File \"/Library/Frameworks/Python.framework/Versions/3.9/lib/python3.9/site-packages/pyspark/python/lib/pyspark.zip/pyspark/worker.py\", line 619, in main\n",
      "    process()\n",
      "  File \"/Library/Frameworks/Python.framework/Versions/3.9/lib/python3.9/site-packages/pyspark/python/lib/pyspark.zip/pyspark/worker.py\", line 611, in process\n",
      "    serializer.dump_stream(out_iter, outfile)\n",
      "  File \"/Library/Frameworks/Python.framework/Versions/3.9/lib/python3.9/site-packages/pyspark/python/lib/pyspark.zip/pyspark/serializers.py\", line 259, in dump_stream\n",
      "    vs = list(itertools.islice(iterator, batch))\n",
      "  File \"/Library/Frameworks/Python.framework/Versions/3.9/lib/python3.9/site-packages/pyspark/python/lib/pyspark.zip/pyspark/util.py\", line 74, in wrapper\n",
      "    return f(*args, **kwargs)\n",
      "  File \"/var/folders/wy/p1h_rvg51y902qnr8y_3vmlh0000gn/T/ipykernel_24330/2955707407.py\", line 2, in mapper\n",
      "  File \"/Library/Frameworks/Python.framework/Versions/3.9/lib/python3.9/json/__init__.py\", line 346, in loads\n",
      "    return _default_decoder.decode(s)\n",
      "  File \"/Library/Frameworks/Python.framework/Versions/3.9/lib/python3.9/json/decoder.py\", line 337, in decode\n",
      "    obj, end = self.raw_decode(s, idx=_w(s, 0).end())\n",
      "  File \"/Library/Frameworks/Python.framework/Versions/3.9/lib/python3.9/json/decoder.py\", line 353, in raw_decode\n",
      "    obj, end = self.scan_once(s, idx)\n",
      "json.decoder.JSONDecodeError: Expecting ',' delimiter: line 1 column 1192 (char 1191)\n",
      "\n",
      "\tat org.apache.spark.api.python.BasePythonRunner$ReaderIterator.handlePythonException(PythonRunner.scala:555)\n",
      "\tat org.apache.spark.api.python.PythonRunner$$anon$3.read(PythonRunner.scala:713)\n",
      "\tat org.apache.spark.api.python.PythonRunner$$anon$3.read(PythonRunner.scala:695)\n",
      "\tat org.apache.spark.api.python.BasePythonRunner$ReaderIterator.hasNext(PythonRunner.scala:508)\n",
      "\tat org.apache.spark.InterruptibleIterator.hasNext(InterruptibleIterator.scala:37)\n",
      "\tat scala.collection.Iterator.foreach(Iterator.scala:943)\n",
      "\tat scala.collection.Iterator.foreach$(Iterator.scala:943)\n",
      "\tat org.apache.spark.InterruptibleIterator.foreach(InterruptibleIterator.scala:28)\n",
      "\tat org.apache.spark.api.python.PythonRDD$.writeIteratorToStream(PythonRDD.scala:307)\n",
      "\tat org.apache.spark.api.python.PythonRunner$$anon$2.writeIteratorToStream(PythonRunner.scala:680)\n",
      "\tat org.apache.spark.api.python.BasePythonRunner$WriterThread.$anonfun$run$1(PythonRunner.scala:434)\n",
      "\tat org.apache.spark.util.Utils$.logUncaughtExceptions(Utils.scala:2019)\n",
      "\tat org.apache.spark.api.python.BasePythonRunner$WriterThread.run(PythonRunner.scala:269)\n",
      "22/05/22 17:25:15 WARN TaskSetManager: Lost task 77.0 in stage 1.0 (TID 78) (gregorios-air.technicolor.net executor driver): org.apache.spark.api.python.PythonException: Traceback (most recent call last):\n",
      "  File \"/Library/Frameworks/Python.framework/Versions/3.9/lib/python3.9/site-packages/pyspark/python/lib/pyspark.zip/pyspark/worker.py\", line 619, in main\n",
      "    process()\n",
      "  File \"/Library/Frameworks/Python.framework/Versions/3.9/lib/python3.9/site-packages/pyspark/python/lib/pyspark.zip/pyspark/worker.py\", line 611, in process\n",
      "    serializer.dump_stream(out_iter, outfile)\n",
      "  File \"/Library/Frameworks/Python.framework/Versions/3.9/lib/python3.9/site-packages/pyspark/python/lib/pyspark.zip/pyspark/serializers.py\", line 259, in dump_stream\n",
      "    vs = list(itertools.islice(iterator, batch))\n",
      "  File \"/Library/Frameworks/Python.framework/Versions/3.9/lib/python3.9/site-packages/pyspark/python/lib/pyspark.zip/pyspark/util.py\", line 74, in wrapper\n",
      "    return f(*args, **kwargs)\n",
      "  File \"/var/folders/wy/p1h_rvg51y902qnr8y_3vmlh0000gn/T/ipykernel_24330/2955707407.py\", line 2, in mapper\n",
      "  File \"/Library/Frameworks/Python.framework/Versions/3.9/lib/python3.9/json/__init__.py\", line 346, in loads\n",
      "    return _default_decoder.decode(s)\n",
      "  File \"/Library/Frameworks/Python.framework/Versions/3.9/lib/python3.9/json/decoder.py\", line 337, in decode\n",
      "    obj, end = self.raw_decode(s, idx=_w(s, 0).end())\n",
      "  File \"/Library/Frameworks/Python.framework/Versions/3.9/lib/python3.9/json/decoder.py\", line 353, in raw_decode\n",
      "    obj, end = self.scan_once(s, idx)\n",
      "json.decoder.JSONDecodeError: Expecting ',' delimiter: line 1 column 1192 (char 1191)\n",
      "\n",
      "\tat org.apache.spark.api.python.BasePythonRunner$ReaderIterator.handlePythonException(PythonRunner.scala:555)\n",
      "\tat org.apache.spark.api.python.PythonRunner$$anon$3.read(PythonRunner.scala:713)\n",
      "\tat org.apache.spark.api.python.PythonRunner$$anon$3.read(PythonRunner.scala:695)\n",
      "\tat org.apache.spark.api.python.BasePythonRunner$ReaderIterator.hasNext(PythonRunner.scala:508)\n",
      "\tat org.apache.spark.InterruptibleIterator.hasNext(InterruptibleIterator.scala:37)\n",
      "\tat scala.collection.Iterator.foreach(Iterator.scala:943)\n",
      "\tat scala.collection.Iterator.foreach$(Iterator.scala:943)\n",
      "\tat org.apache.spark.InterruptibleIterator.foreach(InterruptibleIterator.scala:28)\n",
      "\tat org.apache.spark.api.python.PythonRDD$.writeIteratorToStream(PythonRDD.scala:307)\n",
      "\tat org.apache.spark.api.python.PythonRunner$$anon$2.writeIteratorToStream(PythonRunner.scala:680)\n",
      "\tat org.apache.spark.api.python.BasePythonRunner$WriterThread.$anonfun$run$1(PythonRunner.scala:434)\n",
      "\tat org.apache.spark.util.Utils$.logUncaughtExceptions(Utils.scala:2019)\n",
      "\tat org.apache.spark.api.python.BasePythonRunner$WriterThread.run(PythonRunner.scala:269)\n",
      "\n",
      "22/05/22 17:25:15 ERROR TaskSetManager: Task 77 in stage 1.0 failed 1 times; aborting job\n",
      "Traceback (most recent call last):\n",
      "  File \"/Library/Frameworks/Python.framework/Versions/3.9/lib/python3.9/site-packages/pyspark/python/lib/pyspark.zip/pyspark/daemon.py\", line 186, in manager\n",
      "  File \"/Library/Frameworks/Python.framework/Versions/3.9/lib/python3.9/site-packages/pyspark/python/lib/pyspark.zip/pyspark/daemon.py\", line 74, in worker\n",
      "  File \"/Library/Frameworks/Python.framework/Versions/3.9/lib/python3.9/site-packages/pyspark/python/lib/pyspark.zip/pyspark/worker.py\", line 663, in main\n",
      "    if read_int(infile) == SpecialLengths.END_OF_STREAM:\n",
      "  File \"/Library/Frameworks/Python.framework/Versions/3.9/lib/python3.9/site-packages/pyspark/python/lib/pyspark.zip/pyspark/serializers.py\", line 564, in read_int\n",
      "    raise EOFError\n",
      "EOFError\n",
      "22/05/22 17:25:15 WARN TaskSetManager: Lost task 82.0 in stage 1.0 (TID 83) (gregorios-air.technicolor.net executor driver): TaskKilled (Stage cancelled)\n",
      "22/05/22 17:25:15 WARN TaskSetManager: Lost task 81.0 in stage 1.0 (TID 82) (gregorios-air.technicolor.net executor driver): TaskKilled (Stage cancelled)\n",
      "Traceback (most recent call last):                               (78 + 2) / 214]\n",
      "  File \"/Library/Frameworks/Python.framework/Versions/3.9/lib/python3.9/site-packages/pyspark/python/lib/pyspark.zip/pyspark/daemon.py\", line 186, in manager\n",
      "  File \"/Library/Frameworks/Python.framework/Versions/3.9/lib/python3.9/site-packages/pyspark/python/lib/pyspark.zip/pyspark/daemon.py\", line 74, in worker\n",
      "  File \"/Library/Frameworks/Python.framework/Versions/3.9/lib/python3.9/site-packages/pyspark/python/lib/pyspark.zip/pyspark/worker.py\", line 663, in main\n",
      "    if read_int(infile) == SpecialLengths.END_OF_STREAM:\n",
      "  File \"/Library/Frameworks/Python.framework/Versions/3.9/lib/python3.9/site-packages/pyspark/python/lib/pyspark.zip/pyspark/serializers.py\", line 564, in read_int\n",
      "    raise EOFError\n",
      "EOFError\n",
      "22/05/22 17:25:15 WARN TaskSetManager: Lost task 80.0 in stage 1.0 (TID 81) (gregorios-air.technicolor.net executor driver): TaskKilled (Stage cancelled)\n",
      "22/05/22 17:25:15 WARN TaskSetManager: Lost task 76.0 in stage 1.0 (TID 77) (gregorios-air.technicolor.net executor driver): TaskKilled (Stage cancelled)\n",
      "Traceback (most recent call last):\n",
      "  File \"/Library/Frameworks/Python.framework/Versions/3.9/lib/python3.9/site-packages/pyspark/python/lib/pyspark.zip/pyspark/daemon.py\", line 186, in manager\n",
      "  File \"/Library/Frameworks/Python.framework/Versions/3.9/lib/python3.9/site-packages/pyspark/python/lib/pyspark.zip/pyspark/daemon.py\", line 74, in worker\n",
      "  File \"/Library/Frameworks/Python.framework/Versions/3.9/lib/python3.9/site-packages/pyspark/python/lib/pyspark.zip/pyspark/worker.py\", line 663, in main\n",
      "    if read_int(infile) == SpecialLengths.END_OF_STREAM:\n",
      "  File \"/Library/Frameworks/Python.framework/Versions/3.9/lib/python3.9/site-packages/pyspark/python/lib/pyspark.zip/pyspark/serializers.py\", line 564, in read_int\n",
      "    raise EOFError\n",
      "EOFError\n"
     ]
    },
    {
     "ename": "Py4JJavaError",
     "evalue": "An error occurred while calling z:org.apache.spark.api.python.PythonRDD.collectAndServe.\n: org.apache.spark.SparkException: Job aborted due to stage failure: Task 77 in stage 1.0 failed 1 times, most recent failure: Lost task 77.0 in stage 1.0 (TID 78) (gregorios-air.technicolor.net executor driver): org.apache.spark.api.python.PythonException: Traceback (most recent call last):\n  File \"/Library/Frameworks/Python.framework/Versions/3.9/lib/python3.9/site-packages/pyspark/python/lib/pyspark.zip/pyspark/worker.py\", line 619, in main\n    process()\n  File \"/Library/Frameworks/Python.framework/Versions/3.9/lib/python3.9/site-packages/pyspark/python/lib/pyspark.zip/pyspark/worker.py\", line 611, in process\n    serializer.dump_stream(out_iter, outfile)\n  File \"/Library/Frameworks/Python.framework/Versions/3.9/lib/python3.9/site-packages/pyspark/python/lib/pyspark.zip/pyspark/serializers.py\", line 259, in dump_stream\n    vs = list(itertools.islice(iterator, batch))\n  File \"/Library/Frameworks/Python.framework/Versions/3.9/lib/python3.9/site-packages/pyspark/python/lib/pyspark.zip/pyspark/util.py\", line 74, in wrapper\n    return f(*args, **kwargs)\n  File \"/var/folders/wy/p1h_rvg51y902qnr8y_3vmlh0000gn/T/ipykernel_24330/2955707407.py\", line 2, in mapper\n  File \"/Library/Frameworks/Python.framework/Versions/3.9/lib/python3.9/json/__init__.py\", line 346, in loads\n    return _default_decoder.decode(s)\n  File \"/Library/Frameworks/Python.framework/Versions/3.9/lib/python3.9/json/decoder.py\", line 337, in decode\n    obj, end = self.raw_decode(s, idx=_w(s, 0).end())\n  File \"/Library/Frameworks/Python.framework/Versions/3.9/lib/python3.9/json/decoder.py\", line 353, in raw_decode\n    obj, end = self.scan_once(s, idx)\njson.decoder.JSONDecodeError: Expecting ',' delimiter: line 1 column 1192 (char 1191)\n\n\tat org.apache.spark.api.python.BasePythonRunner$ReaderIterator.handlePythonException(PythonRunner.scala:555)\n\tat org.apache.spark.api.python.PythonRunner$$anon$3.read(PythonRunner.scala:713)\n\tat org.apache.spark.api.python.PythonRunner$$anon$3.read(PythonRunner.scala:695)\n\tat org.apache.spark.api.python.BasePythonRunner$ReaderIterator.hasNext(PythonRunner.scala:508)\n\tat org.apache.spark.InterruptibleIterator.hasNext(InterruptibleIterator.scala:37)\n\tat scala.collection.Iterator.foreach(Iterator.scala:943)\n\tat scala.collection.Iterator.foreach$(Iterator.scala:943)\n\tat org.apache.spark.InterruptibleIterator.foreach(InterruptibleIterator.scala:28)\n\tat org.apache.spark.api.python.PythonRDD$.writeIteratorToStream(PythonRDD.scala:307)\n\tat org.apache.spark.api.python.PythonRunner$$anon$2.writeIteratorToStream(PythonRunner.scala:680)\n\tat org.apache.spark.api.python.BasePythonRunner$WriterThread.$anonfun$run$1(PythonRunner.scala:434)\n\tat org.apache.spark.util.Utils$.logUncaughtExceptions(Utils.scala:2019)\n\tat org.apache.spark.api.python.BasePythonRunner$WriterThread.run(PythonRunner.scala:269)\n\nDriver stacktrace:\n\tat org.apache.spark.scheduler.DAGScheduler.failJobAndIndependentStages(DAGScheduler.scala:2454)\n\tat org.apache.spark.scheduler.DAGScheduler.$anonfun$abortStage$2(DAGScheduler.scala:2403)\n\tat org.apache.spark.scheduler.DAGScheduler.$anonfun$abortStage$2$adapted(DAGScheduler.scala:2402)\n\tat scala.collection.mutable.ResizableArray.foreach(ResizableArray.scala:62)\n\tat scala.collection.mutable.ResizableArray.foreach$(ResizableArray.scala:55)\n\tat scala.collection.mutable.ArrayBuffer.foreach(ArrayBuffer.scala:49)\n\tat org.apache.spark.scheduler.DAGScheduler.abortStage(DAGScheduler.scala:2402)\n\tat org.apache.spark.scheduler.DAGScheduler.$anonfun$handleTaskSetFailed$1(DAGScheduler.scala:1160)\n\tat org.apache.spark.scheduler.DAGScheduler.$anonfun$handleTaskSetFailed$1$adapted(DAGScheduler.scala:1160)\n\tat scala.Option.foreach(Option.scala:407)\n\tat org.apache.spark.scheduler.DAGScheduler.handleTaskSetFailed(DAGScheduler.scala:1160)\n\tat org.apache.spark.scheduler.DAGSchedulerEventProcessLoop.doOnReceive(DAGScheduler.scala:2642)\n\tat org.apache.spark.scheduler.DAGSchedulerEventProcessLoop.onReceive(DAGScheduler.scala:2584)\n\tat org.apache.spark.scheduler.DAGSchedulerEventProcessLoop.onReceive(DAGScheduler.scala:2573)\n\tat org.apache.spark.util.EventLoop$$anon$1.run(EventLoop.scala:49)\n\tat org.apache.spark.scheduler.DAGScheduler.runJob(DAGScheduler.scala:938)\n\tat org.apache.spark.SparkContext.runJob(SparkContext.scala:2214)\n\tat org.apache.spark.SparkContext.runJob(SparkContext.scala:2235)\n\tat org.apache.spark.SparkContext.runJob(SparkContext.scala:2254)\n\tat org.apache.spark.SparkContext.runJob(SparkContext.scala:2279)\n\tat org.apache.spark.rdd.RDD.$anonfun$collect$1(RDD.scala:1030)\n\tat org.apache.spark.rdd.RDDOperationScope$.withScope(RDDOperationScope.scala:151)\n\tat org.apache.spark.rdd.RDDOperationScope$.withScope(RDDOperationScope.scala:112)\n\tat org.apache.spark.rdd.RDD.withScope(RDD.scala:414)\n\tat org.apache.spark.rdd.RDD.collect(RDD.scala:1029)\n\tat org.apache.spark.api.python.PythonRDD$.collectAndServe(PythonRDD.scala:180)\n\tat org.apache.spark.api.python.PythonRDD.collectAndServe(PythonRDD.scala)\n\tat java.base/jdk.internal.reflect.NativeMethodAccessorImpl.invoke0(Native Method)\n\tat java.base/jdk.internal.reflect.NativeMethodAccessorImpl.invoke(NativeMethodAccessorImpl.java:62)\n\tat java.base/jdk.internal.reflect.DelegatingMethodAccessorImpl.invoke(DelegatingMethodAccessorImpl.java:43)\n\tat java.base/java.lang.reflect.Method.invoke(Method.java:566)\n\tat py4j.reflection.MethodInvoker.invoke(MethodInvoker.java:244)\n\tat py4j.reflection.ReflectionEngine.invoke(ReflectionEngine.java:357)\n\tat py4j.Gateway.invoke(Gateway.java:282)\n\tat py4j.commands.AbstractCommand.invokeMethod(AbstractCommand.java:132)\n\tat py4j.commands.CallCommand.execute(CallCommand.java:79)\n\tat py4j.ClientServerConnection.waitForCommands(ClientServerConnection.java:182)\n\tat py4j.ClientServerConnection.run(ClientServerConnection.java:106)\n\tat java.base/java.lang.Thread.run(Thread.java:834)\nCaused by: org.apache.spark.api.python.PythonException: Traceback (most recent call last):\n  File \"/Library/Frameworks/Python.framework/Versions/3.9/lib/python3.9/site-packages/pyspark/python/lib/pyspark.zip/pyspark/worker.py\", line 619, in main\n    process()\n  File \"/Library/Frameworks/Python.framework/Versions/3.9/lib/python3.9/site-packages/pyspark/python/lib/pyspark.zip/pyspark/worker.py\", line 611, in process\n    serializer.dump_stream(out_iter, outfile)\n  File \"/Library/Frameworks/Python.framework/Versions/3.9/lib/python3.9/site-packages/pyspark/python/lib/pyspark.zip/pyspark/serializers.py\", line 259, in dump_stream\n    vs = list(itertools.islice(iterator, batch))\n  File \"/Library/Frameworks/Python.framework/Versions/3.9/lib/python3.9/site-packages/pyspark/python/lib/pyspark.zip/pyspark/util.py\", line 74, in wrapper\n    return f(*args, **kwargs)\n  File \"/var/folders/wy/p1h_rvg51y902qnr8y_3vmlh0000gn/T/ipykernel_24330/2955707407.py\", line 2, in mapper\n  File \"/Library/Frameworks/Python.framework/Versions/3.9/lib/python3.9/json/__init__.py\", line 346, in loads\n    return _default_decoder.decode(s)\n  File \"/Library/Frameworks/Python.framework/Versions/3.9/lib/python3.9/json/decoder.py\", line 337, in decode\n    obj, end = self.raw_decode(s, idx=_w(s, 0).end())\n  File \"/Library/Frameworks/Python.framework/Versions/3.9/lib/python3.9/json/decoder.py\", line 353, in raw_decode\n    obj, end = self.scan_once(s, idx)\njson.decoder.JSONDecodeError: Expecting ',' delimiter: line 1 column 1192 (char 1191)\n\n\tat org.apache.spark.api.python.BasePythonRunner$ReaderIterator.handlePythonException(PythonRunner.scala:555)\n\tat org.apache.spark.api.python.PythonRunner$$anon$3.read(PythonRunner.scala:713)\n\tat org.apache.spark.api.python.PythonRunner$$anon$3.read(PythonRunner.scala:695)\n\tat org.apache.spark.api.python.BasePythonRunner$ReaderIterator.hasNext(PythonRunner.scala:508)\n\tat org.apache.spark.InterruptibleIterator.hasNext(InterruptibleIterator.scala:37)\n\tat scala.collection.Iterator.foreach(Iterator.scala:943)\n\tat scala.collection.Iterator.foreach$(Iterator.scala:943)\n\tat org.apache.spark.InterruptibleIterator.foreach(InterruptibleIterator.scala:28)\n\tat org.apache.spark.api.python.PythonRDD$.writeIteratorToStream(PythonRDD.scala:307)\n\tat org.apache.spark.api.python.PythonRunner$$anon$2.writeIteratorToStream(PythonRunner.scala:680)\n\tat org.apache.spark.api.python.BasePythonRunner$WriterThread.$anonfun$run$1(PythonRunner.scala:434)\n\tat org.apache.spark.util.Utils$.logUncaughtExceptions(Utils.scala:2019)\n\tat org.apache.spark.api.python.BasePythonRunner$WriterThread.run(PythonRunner.scala:269)\n",
     "output_type": "error",
     "traceback": [
      "\u001b[0;31m---------------------------------------------------------------------------\u001b[0m",
      "\u001b[0;31mPy4JJavaError\u001b[0m                             Traceback (most recent call last)",
      "Input \u001b[0;32mIn [15]\u001b[0m, in \u001b[0;36m<module>\u001b[0;34m\u001b[0m\n\u001b[1;32m      1\u001b[0m \u001b[38;5;66;03m#Separate by user type\u001b[39;00m\n\u001b[0;32m----> 2\u001b[0m user_data \u001b[38;5;241m=\u001b[39m \u001b[43mrdd\u001b[49m\u001b[43m[\u001b[49m\u001b[38;5;124;43m'\u001b[39;49m\u001b[38;5;124;43m2018\u001b[39;49m\u001b[38;5;124;43m'\u001b[39;49m\u001b[43m]\u001b[49m\u001b[38;5;241;43m.\u001b[39;49m\u001b[43mmap\u001b[49m\u001b[43m(\u001b[49m\u001b[38;5;28;43;01mlambda\u001b[39;49;00m\u001b[43m \u001b[49m\u001b[43mx\u001b[49m\u001b[43m:\u001b[49m\u001b[43m \u001b[49m\u001b[43mx\u001b[49m\u001b[43m[\u001b[49m\u001b[38;5;124;43m'\u001b[39;49m\u001b[38;5;124;43muser_type\u001b[39;49m\u001b[38;5;124;43m'\u001b[39;49m\u001b[43m]\u001b[49m\u001b[43m)\u001b[49m\u001b[38;5;241;43m.\u001b[39;49m\u001b[43mcountByValue\u001b[49m\u001b[43m(\u001b[49m\u001b[43m)\u001b[49m\n\u001b[1;32m      3\u001b[0m user_data\n",
      "File \u001b[0;32m/Library/Frameworks/Python.framework/Versions/3.9/lib/python3.9/site-packages/pyspark/rdd.py:1457\u001b[0m, in \u001b[0;36mRDD.countByValue\u001b[0;34m(self)\u001b[0m\n\u001b[1;32m   1455\u001b[0m         m1[k] \u001b[38;5;241m+\u001b[39m\u001b[38;5;241m=\u001b[39m v\n\u001b[1;32m   1456\u001b[0m     \u001b[38;5;28;01mreturn\u001b[39;00m m1\n\u001b[0;32m-> 1457\u001b[0m \u001b[38;5;28;01mreturn\u001b[39;00m \u001b[38;5;28;43mself\u001b[39;49m\u001b[38;5;241;43m.\u001b[39;49m\u001b[43mmapPartitions\u001b[49m\u001b[43m(\u001b[49m\u001b[43mcountPartition\u001b[49m\u001b[43m)\u001b[49m\u001b[38;5;241;43m.\u001b[39;49m\u001b[43mreduce\u001b[49m\u001b[43m(\u001b[49m\u001b[43mmergeMaps\u001b[49m\u001b[43m)\u001b[49m\n",
      "File \u001b[0;32m/Library/Frameworks/Python.framework/Versions/3.9/lib/python3.9/site-packages/pyspark/rdd.py:999\u001b[0m, in \u001b[0;36mRDD.reduce\u001b[0;34m(self, f)\u001b[0m\n\u001b[1;32m    996\u001b[0m         \u001b[38;5;28;01mreturn\u001b[39;00m\n\u001b[1;32m    997\u001b[0m     \u001b[38;5;28;01myield\u001b[39;00m reduce(f, iterator, initial)\n\u001b[0;32m--> 999\u001b[0m vals \u001b[38;5;241m=\u001b[39m \u001b[38;5;28;43mself\u001b[39;49m\u001b[38;5;241;43m.\u001b[39;49m\u001b[43mmapPartitions\u001b[49m\u001b[43m(\u001b[49m\u001b[43mfunc\u001b[49m\u001b[43m)\u001b[49m\u001b[38;5;241;43m.\u001b[39;49m\u001b[43mcollect\u001b[49m\u001b[43m(\u001b[49m\u001b[43m)\u001b[49m\n\u001b[1;32m   1000\u001b[0m \u001b[38;5;28;01mif\u001b[39;00m vals:\n\u001b[1;32m   1001\u001b[0m     \u001b[38;5;28;01mreturn\u001b[39;00m reduce(f, vals)\n",
      "File \u001b[0;32m/Library/Frameworks/Python.framework/Versions/3.9/lib/python3.9/site-packages/pyspark/rdd.py:950\u001b[0m, in \u001b[0;36mRDD.collect\u001b[0;34m(self)\u001b[0m\n\u001b[1;32m    941\u001b[0m \u001b[38;5;124;03m\"\"\"\u001b[39;00m\n\u001b[1;32m    942\u001b[0m \u001b[38;5;124;03mReturn a list that contains all of the elements in this RDD.\u001b[39;00m\n\u001b[1;32m    943\u001b[0m \n\u001b[0;32m   (...)\u001b[0m\n\u001b[1;32m    947\u001b[0m \u001b[38;5;124;03mto be small, as all the data is loaded into the driver's memory.\u001b[39;00m\n\u001b[1;32m    948\u001b[0m \u001b[38;5;124;03m\"\"\"\u001b[39;00m\n\u001b[1;32m    949\u001b[0m \u001b[38;5;28;01mwith\u001b[39;00m SCCallSiteSync(\u001b[38;5;28mself\u001b[39m\u001b[38;5;241m.\u001b[39mcontext) \u001b[38;5;28;01mas\u001b[39;00m css:\n\u001b[0;32m--> 950\u001b[0m     sock_info \u001b[38;5;241m=\u001b[39m \u001b[38;5;28;43mself\u001b[39;49m\u001b[38;5;241;43m.\u001b[39;49m\u001b[43mctx\u001b[49m\u001b[38;5;241;43m.\u001b[39;49m\u001b[43m_jvm\u001b[49m\u001b[38;5;241;43m.\u001b[39;49m\u001b[43mPythonRDD\u001b[49m\u001b[38;5;241;43m.\u001b[39;49m\u001b[43mcollectAndServe\u001b[49m\u001b[43m(\u001b[49m\u001b[38;5;28;43mself\u001b[39;49m\u001b[38;5;241;43m.\u001b[39;49m\u001b[43m_jrdd\u001b[49m\u001b[38;5;241;43m.\u001b[39;49m\u001b[43mrdd\u001b[49m\u001b[43m(\u001b[49m\u001b[43m)\u001b[49m\u001b[43m)\u001b[49m\n\u001b[1;32m    951\u001b[0m \u001b[38;5;28;01mreturn\u001b[39;00m \u001b[38;5;28mlist\u001b[39m(_load_from_socket(sock_info, \u001b[38;5;28mself\u001b[39m\u001b[38;5;241m.\u001b[39m_jrdd_deserializer))\n",
      "File \u001b[0;32m/Library/Frameworks/Python.framework/Versions/3.9/lib/python3.9/site-packages/py4j/java_gateway.py:1321\u001b[0m, in \u001b[0;36mJavaMember.__call__\u001b[0;34m(self, *args)\u001b[0m\n\u001b[1;32m   1315\u001b[0m command \u001b[38;5;241m=\u001b[39m proto\u001b[38;5;241m.\u001b[39mCALL_COMMAND_NAME \u001b[38;5;241m+\u001b[39m\\\n\u001b[1;32m   1316\u001b[0m     \u001b[38;5;28mself\u001b[39m\u001b[38;5;241m.\u001b[39mcommand_header \u001b[38;5;241m+\u001b[39m\\\n\u001b[1;32m   1317\u001b[0m     args_command \u001b[38;5;241m+\u001b[39m\\\n\u001b[1;32m   1318\u001b[0m     proto\u001b[38;5;241m.\u001b[39mEND_COMMAND_PART\n\u001b[1;32m   1320\u001b[0m answer \u001b[38;5;241m=\u001b[39m \u001b[38;5;28mself\u001b[39m\u001b[38;5;241m.\u001b[39mgateway_client\u001b[38;5;241m.\u001b[39msend_command(command)\n\u001b[0;32m-> 1321\u001b[0m return_value \u001b[38;5;241m=\u001b[39m \u001b[43mget_return_value\u001b[49m\u001b[43m(\u001b[49m\n\u001b[1;32m   1322\u001b[0m \u001b[43m    \u001b[49m\u001b[43manswer\u001b[49m\u001b[43m,\u001b[49m\u001b[43m \u001b[49m\u001b[38;5;28;43mself\u001b[39;49m\u001b[38;5;241;43m.\u001b[39;49m\u001b[43mgateway_client\u001b[49m\u001b[43m,\u001b[49m\u001b[43m \u001b[49m\u001b[38;5;28;43mself\u001b[39;49m\u001b[38;5;241;43m.\u001b[39;49m\u001b[43mtarget_id\u001b[49m\u001b[43m,\u001b[49m\u001b[43m \u001b[49m\u001b[38;5;28;43mself\u001b[39;49m\u001b[38;5;241;43m.\u001b[39;49m\u001b[43mname\u001b[49m\u001b[43m)\u001b[49m\n\u001b[1;32m   1324\u001b[0m \u001b[38;5;28;01mfor\u001b[39;00m temp_arg \u001b[38;5;129;01min\u001b[39;00m temp_args:\n\u001b[1;32m   1325\u001b[0m     temp_arg\u001b[38;5;241m.\u001b[39m_detach()\n",
      "File \u001b[0;32m/Library/Frameworks/Python.framework/Versions/3.9/lib/python3.9/site-packages/py4j/protocol.py:326\u001b[0m, in \u001b[0;36mget_return_value\u001b[0;34m(answer, gateway_client, target_id, name)\u001b[0m\n\u001b[1;32m    324\u001b[0m value \u001b[38;5;241m=\u001b[39m OUTPUT_CONVERTER[\u001b[38;5;28mtype\u001b[39m](answer[\u001b[38;5;241m2\u001b[39m:], gateway_client)\n\u001b[1;32m    325\u001b[0m \u001b[38;5;28;01mif\u001b[39;00m answer[\u001b[38;5;241m1\u001b[39m] \u001b[38;5;241m==\u001b[39m REFERENCE_TYPE:\n\u001b[0;32m--> 326\u001b[0m     \u001b[38;5;28;01mraise\u001b[39;00m Py4JJavaError(\n\u001b[1;32m    327\u001b[0m         \u001b[38;5;124m\"\u001b[39m\u001b[38;5;124mAn error occurred while calling \u001b[39m\u001b[38;5;132;01m{0}\u001b[39;00m\u001b[38;5;132;01m{1}\u001b[39;00m\u001b[38;5;132;01m{2}\u001b[39;00m\u001b[38;5;124m.\u001b[39m\u001b[38;5;130;01m\\n\u001b[39;00m\u001b[38;5;124m\"\u001b[39m\u001b[38;5;241m.\u001b[39m\n\u001b[1;32m    328\u001b[0m         \u001b[38;5;28mformat\u001b[39m(target_id, \u001b[38;5;124m\"\u001b[39m\u001b[38;5;124m.\u001b[39m\u001b[38;5;124m\"\u001b[39m, name), value)\n\u001b[1;32m    329\u001b[0m \u001b[38;5;28;01melse\u001b[39;00m:\n\u001b[1;32m    330\u001b[0m     \u001b[38;5;28;01mraise\u001b[39;00m Py4JError(\n\u001b[1;32m    331\u001b[0m         \u001b[38;5;124m\"\u001b[39m\u001b[38;5;124mAn error occurred while calling \u001b[39m\u001b[38;5;132;01m{0}\u001b[39;00m\u001b[38;5;132;01m{1}\u001b[39;00m\u001b[38;5;132;01m{2}\u001b[39;00m\u001b[38;5;124m. Trace:\u001b[39m\u001b[38;5;130;01m\\n\u001b[39;00m\u001b[38;5;132;01m{3}\u001b[39;00m\u001b[38;5;130;01m\\n\u001b[39;00m\u001b[38;5;124m\"\u001b[39m\u001b[38;5;241m.\u001b[39m\n\u001b[1;32m    332\u001b[0m         \u001b[38;5;28mformat\u001b[39m(target_id, \u001b[38;5;124m\"\u001b[39m\u001b[38;5;124m.\u001b[39m\u001b[38;5;124m\"\u001b[39m, name, value))\n",
      "\u001b[0;31mPy4JJavaError\u001b[0m: An error occurred while calling z:org.apache.spark.api.python.PythonRDD.collectAndServe.\n: org.apache.spark.SparkException: Job aborted due to stage failure: Task 77 in stage 1.0 failed 1 times, most recent failure: Lost task 77.0 in stage 1.0 (TID 78) (gregorios-air.technicolor.net executor driver): org.apache.spark.api.python.PythonException: Traceback (most recent call last):\n  File \"/Library/Frameworks/Python.framework/Versions/3.9/lib/python3.9/site-packages/pyspark/python/lib/pyspark.zip/pyspark/worker.py\", line 619, in main\n    process()\n  File \"/Library/Frameworks/Python.framework/Versions/3.9/lib/python3.9/site-packages/pyspark/python/lib/pyspark.zip/pyspark/worker.py\", line 611, in process\n    serializer.dump_stream(out_iter, outfile)\n  File \"/Library/Frameworks/Python.framework/Versions/3.9/lib/python3.9/site-packages/pyspark/python/lib/pyspark.zip/pyspark/serializers.py\", line 259, in dump_stream\n    vs = list(itertools.islice(iterator, batch))\n  File \"/Library/Frameworks/Python.framework/Versions/3.9/lib/python3.9/site-packages/pyspark/python/lib/pyspark.zip/pyspark/util.py\", line 74, in wrapper\n    return f(*args, **kwargs)\n  File \"/var/folders/wy/p1h_rvg51y902qnr8y_3vmlh0000gn/T/ipykernel_24330/2955707407.py\", line 2, in mapper\n  File \"/Library/Frameworks/Python.framework/Versions/3.9/lib/python3.9/json/__init__.py\", line 346, in loads\n    return _default_decoder.decode(s)\n  File \"/Library/Frameworks/Python.framework/Versions/3.9/lib/python3.9/json/decoder.py\", line 337, in decode\n    obj, end = self.raw_decode(s, idx=_w(s, 0).end())\n  File \"/Library/Frameworks/Python.framework/Versions/3.9/lib/python3.9/json/decoder.py\", line 353, in raw_decode\n    obj, end = self.scan_once(s, idx)\njson.decoder.JSONDecodeError: Expecting ',' delimiter: line 1 column 1192 (char 1191)\n\n\tat org.apache.spark.api.python.BasePythonRunner$ReaderIterator.handlePythonException(PythonRunner.scala:555)\n\tat org.apache.spark.api.python.PythonRunner$$anon$3.read(PythonRunner.scala:713)\n\tat org.apache.spark.api.python.PythonRunner$$anon$3.read(PythonRunner.scala:695)\n\tat org.apache.spark.api.python.BasePythonRunner$ReaderIterator.hasNext(PythonRunner.scala:508)\n\tat org.apache.spark.InterruptibleIterator.hasNext(InterruptibleIterator.scala:37)\n\tat scala.collection.Iterator.foreach(Iterator.scala:943)\n\tat scala.collection.Iterator.foreach$(Iterator.scala:943)\n\tat org.apache.spark.InterruptibleIterator.foreach(InterruptibleIterator.scala:28)\n\tat org.apache.spark.api.python.PythonRDD$.writeIteratorToStream(PythonRDD.scala:307)\n\tat org.apache.spark.api.python.PythonRunner$$anon$2.writeIteratorToStream(PythonRunner.scala:680)\n\tat org.apache.spark.api.python.BasePythonRunner$WriterThread.$anonfun$run$1(PythonRunner.scala:434)\n\tat org.apache.spark.util.Utils$.logUncaughtExceptions(Utils.scala:2019)\n\tat org.apache.spark.api.python.BasePythonRunner$WriterThread.run(PythonRunner.scala:269)\n\nDriver stacktrace:\n\tat org.apache.spark.scheduler.DAGScheduler.failJobAndIndependentStages(DAGScheduler.scala:2454)\n\tat org.apache.spark.scheduler.DAGScheduler.$anonfun$abortStage$2(DAGScheduler.scala:2403)\n\tat org.apache.spark.scheduler.DAGScheduler.$anonfun$abortStage$2$adapted(DAGScheduler.scala:2402)\n\tat scala.collection.mutable.ResizableArray.foreach(ResizableArray.scala:62)\n\tat scala.collection.mutable.ResizableArray.foreach$(ResizableArray.scala:55)\n\tat scala.collection.mutable.ArrayBuffer.foreach(ArrayBuffer.scala:49)\n\tat org.apache.spark.scheduler.DAGScheduler.abortStage(DAGScheduler.scala:2402)\n\tat org.apache.spark.scheduler.DAGScheduler.$anonfun$handleTaskSetFailed$1(DAGScheduler.scala:1160)\n\tat org.apache.spark.scheduler.DAGScheduler.$anonfun$handleTaskSetFailed$1$adapted(DAGScheduler.scala:1160)\n\tat scala.Option.foreach(Option.scala:407)\n\tat org.apache.spark.scheduler.DAGScheduler.handleTaskSetFailed(DAGScheduler.scala:1160)\n\tat org.apache.spark.scheduler.DAGSchedulerEventProcessLoop.doOnReceive(DAGScheduler.scala:2642)\n\tat org.apache.spark.scheduler.DAGSchedulerEventProcessLoop.onReceive(DAGScheduler.scala:2584)\n\tat org.apache.spark.scheduler.DAGSchedulerEventProcessLoop.onReceive(DAGScheduler.scala:2573)\n\tat org.apache.spark.util.EventLoop$$anon$1.run(EventLoop.scala:49)\n\tat org.apache.spark.scheduler.DAGScheduler.runJob(DAGScheduler.scala:938)\n\tat org.apache.spark.SparkContext.runJob(SparkContext.scala:2214)\n\tat org.apache.spark.SparkContext.runJob(SparkContext.scala:2235)\n\tat org.apache.spark.SparkContext.runJob(SparkContext.scala:2254)\n\tat org.apache.spark.SparkContext.runJob(SparkContext.scala:2279)\n\tat org.apache.spark.rdd.RDD.$anonfun$collect$1(RDD.scala:1030)\n\tat org.apache.spark.rdd.RDDOperationScope$.withScope(RDDOperationScope.scala:151)\n\tat org.apache.spark.rdd.RDDOperationScope$.withScope(RDDOperationScope.scala:112)\n\tat org.apache.spark.rdd.RDD.withScope(RDD.scala:414)\n\tat org.apache.spark.rdd.RDD.collect(RDD.scala:1029)\n\tat org.apache.spark.api.python.PythonRDD$.collectAndServe(PythonRDD.scala:180)\n\tat org.apache.spark.api.python.PythonRDD.collectAndServe(PythonRDD.scala)\n\tat java.base/jdk.internal.reflect.NativeMethodAccessorImpl.invoke0(Native Method)\n\tat java.base/jdk.internal.reflect.NativeMethodAccessorImpl.invoke(NativeMethodAccessorImpl.java:62)\n\tat java.base/jdk.internal.reflect.DelegatingMethodAccessorImpl.invoke(DelegatingMethodAccessorImpl.java:43)\n\tat java.base/java.lang.reflect.Method.invoke(Method.java:566)\n\tat py4j.reflection.MethodInvoker.invoke(MethodInvoker.java:244)\n\tat py4j.reflection.ReflectionEngine.invoke(ReflectionEngine.java:357)\n\tat py4j.Gateway.invoke(Gateway.java:282)\n\tat py4j.commands.AbstractCommand.invokeMethod(AbstractCommand.java:132)\n\tat py4j.commands.CallCommand.execute(CallCommand.java:79)\n\tat py4j.ClientServerConnection.waitForCommands(ClientServerConnection.java:182)\n\tat py4j.ClientServerConnection.run(ClientServerConnection.java:106)\n\tat java.base/java.lang.Thread.run(Thread.java:834)\nCaused by: org.apache.spark.api.python.PythonException: Traceback (most recent call last):\n  File \"/Library/Frameworks/Python.framework/Versions/3.9/lib/python3.9/site-packages/pyspark/python/lib/pyspark.zip/pyspark/worker.py\", line 619, in main\n    process()\n  File \"/Library/Frameworks/Python.framework/Versions/3.9/lib/python3.9/site-packages/pyspark/python/lib/pyspark.zip/pyspark/worker.py\", line 611, in process\n    serializer.dump_stream(out_iter, outfile)\n  File \"/Library/Frameworks/Python.framework/Versions/3.9/lib/python3.9/site-packages/pyspark/python/lib/pyspark.zip/pyspark/serializers.py\", line 259, in dump_stream\n    vs = list(itertools.islice(iterator, batch))\n  File \"/Library/Frameworks/Python.framework/Versions/3.9/lib/python3.9/site-packages/pyspark/python/lib/pyspark.zip/pyspark/util.py\", line 74, in wrapper\n    return f(*args, **kwargs)\n  File \"/var/folders/wy/p1h_rvg51y902qnr8y_3vmlh0000gn/T/ipykernel_24330/2955707407.py\", line 2, in mapper\n  File \"/Library/Frameworks/Python.framework/Versions/3.9/lib/python3.9/json/__init__.py\", line 346, in loads\n    return _default_decoder.decode(s)\n  File \"/Library/Frameworks/Python.framework/Versions/3.9/lib/python3.9/json/decoder.py\", line 337, in decode\n    obj, end = self.raw_decode(s, idx=_w(s, 0).end())\n  File \"/Library/Frameworks/Python.framework/Versions/3.9/lib/python3.9/json/decoder.py\", line 353, in raw_decode\n    obj, end = self.scan_once(s, idx)\njson.decoder.JSONDecodeError: Expecting ',' delimiter: line 1 column 1192 (char 1191)\n\n\tat org.apache.spark.api.python.BasePythonRunner$ReaderIterator.handlePythonException(PythonRunner.scala:555)\n\tat org.apache.spark.api.python.PythonRunner$$anon$3.read(PythonRunner.scala:713)\n\tat org.apache.spark.api.python.PythonRunner$$anon$3.read(PythonRunner.scala:695)\n\tat org.apache.spark.api.python.BasePythonRunner$ReaderIterator.hasNext(PythonRunner.scala:508)\n\tat org.apache.spark.InterruptibleIterator.hasNext(InterruptibleIterator.scala:37)\n\tat scala.collection.Iterator.foreach(Iterator.scala:943)\n\tat scala.collection.Iterator.foreach$(Iterator.scala:943)\n\tat org.apache.spark.InterruptibleIterator.foreach(InterruptibleIterator.scala:28)\n\tat org.apache.spark.api.python.PythonRDD$.writeIteratorToStream(PythonRDD.scala:307)\n\tat org.apache.spark.api.python.PythonRunner$$anon$2.writeIteratorToStream(PythonRunner.scala:680)\n\tat org.apache.spark.api.python.BasePythonRunner$WriterThread.$anonfun$run$1(PythonRunner.scala:434)\n\tat org.apache.spark.util.Utils$.logUncaughtExceptions(Utils.scala:2019)\n\tat org.apache.spark.api.python.BasePythonRunner$WriterThread.run(PythonRunner.scala:269)\n"
     ]
    }
   ],
   "source": [
    "#Separate by user type\n",
    "user_data = rdd['2018'].map(lambda x: x['user_type']).countByValue()\n",
    "user_data"
   ]
  },
  {
   "cell_type": "code",
   "execution_count": 162,
   "id": "622fc5c3",
   "metadata": {},
   "outputs": [
    {
     "data": {
      "text/plain": [
       "4.80265044174029"
      ]
     },
     "execution_count": 162,
     "metadata": {},
     "output_type": "execute_result"
    }
   ],
   "source": [
    "288111/59990\n"
   ]
  },
  {
   "cell_type": "code",
   "execution_count": 122,
   "id": "0f1c2556",
   "metadata": {},
   "outputs": [
    {
     "data": {
      "image/png": "[encoded data removed]",
      "text/plain": [
       "<Figure size 432x288 with 1 Axes>"
      ]
     },
     "metadata": {
      "needs_background": "light"
     },
     "output_type": "display_data"
    }
   ],
   "source": [
    "plt.title('Distribution of user types in 2018')\n",
    "names = list(user_data.keys()) \n",
    "values = list(user_data.values())\n",
    "plt.bar(names, values, 1)\n",
    "plt.xlabel('User type', fontsize=18)\n",
    "plt.ylabel('Number of users', fontsize=16)\n",
    "names.sort()\n",
    "plt.xticks(names, [\"0\",\"1\",\"2\",\"3\"])\n",
    "plt.show()"
   ]
  },
  {
   "cell_type": "code",
   "execution_count": 168,
   "id": "f4da23ad",
   "metadata": {},
   "outputs": [
    {
     "data": {
      "text/plain": [
       "dict_values([3327888, 59990, 288111, 2097])"
      ]
     },
     "execution_count": 168,
     "metadata": {},
     "output_type": "execute_result"
    }
   ],
   "source": [
    "user_data.values()"
   ]
  },
  {
   "cell_type": "markdown",
   "id": "6a2806f1",
   "metadata": {},
   "source": [
    "As expected, the most common user is the type 1. Surprinsingly not many people use it occasionaly, the employees are 4.8026 times more frequente than the casual users."
   ]
  },
  {
   "cell_type": "markdown",
   "id": "7a4b14c1",
   "metadata": {},
   "source": [
    "## Most popular stations\n",
    "Both start and end stations."
   ]
  },
  {
   "cell_type": "code",
   "execution_count": 123,
   "id": "5236f031",
   "metadata": {},
   "outputs": [
    {
     "name": "stderr",
     "output_type": "stream",
     "text": [
      "                                                                                \r"
     ]
    }
   ],
   "source": [
    "#Separate by start station\n",
    "start_station = rdd['2018'].map(lambda x: x['start_station']).countByValue()\n",
    "start_data = sorted(dict(start_station).items(), key=lambda x:x[1], reverse=True)"
   ]
  },
  {
   "cell_type": "code",
   "execution_count": 81,
   "id": "b02bdab3",
   "metadata": {},
   "outputs": [
    {
     "data": {
      "text/plain": [
       "[(135, 52550),\n",
       " (175, 50888),\n",
       " (43, 50659),\n",
       " (129, 49472),\n",
       " (163, 49366),\n",
       " (57, 48673),\n",
       " (149, 45099),\n",
       " (90, 42454),\n",
       " (168, 41935),\n",
       " (64, 40367),\n",
       " (162, 39129),\n",
       " (83, 38952),\n",
       " (160, 38529),\n",
       " (58, 37432),\n",
       " (9, 36326),\n",
       " (49, 35898),\n",
       " (132, 35406),\n",
       " (19, 33698),\n",
       " (128, 33688),\n",
       " (1, 33619),\n",
       " (108, 32613),\n",
       " (133, 32455),\n",
       " (170, 31975),\n",
       " (161, 31573),\n",
       " (59, 31514),\n",
       " (41, 31332),\n",
       " (38, 30819),\n",
       " (79, 30816),\n",
       " (46, 30601),\n",
       " (56, 30242),\n",
       " (31, 30224),\n",
       " (164, 29663),\n",
       " (6, 29369),\n",
       " (136, 29312),\n",
       " (166, 29095),\n",
       " (169, 28961),\n",
       " (74, 28819),\n",
       " (13, 28706),\n",
       " (84, 27867),\n",
       " (52, 27789),\n",
       " (114, 27225),\n",
       " (26, 27223),\n",
       " (139, 27025),\n",
       " (82, 26766),\n",
       " (53, 26444),\n",
       " (95, 26283),\n",
       " (42, 25728),\n",
       " (157, 25676),\n",
       " (91, 25198),\n",
       " (78, 25116),\n",
       " (30, 24987),\n",
       " (131, 24645),\n",
       " (75, 24521),\n",
       " (113, 24507),\n",
       " (62, 23738),\n",
       " (3, 23523),\n",
       " (55, 23321),\n",
       " (134, 23220),\n",
       " (118, 22932),\n",
       " (155, 22781),\n",
       " (65, 22769),\n",
       " (77, 22428),\n",
       " (76, 22350),\n",
       " (145, 22042),\n",
       " (156, 21946),\n",
       " (115, 21858),\n",
       " (73, 21843),\n",
       " (130, 21805),\n",
       " (71, 21623),\n",
       " (103, 21514),\n",
       " (86, 21513),\n",
       " (110, 21262),\n",
       " (99, 20997),\n",
       " (167, 20953),\n",
       " (45, 20833),\n",
       " (171, 20419),\n",
       " (17, 20405),\n",
       " (106, 20319),\n",
       " (8, 20165),\n",
       " (14, 19906),\n",
       " (172, 19871),\n",
       " (67, 19806),\n",
       " (21, 19785),\n",
       " (10, 19759),\n",
       " (48, 19681),\n",
       " (96, 19572),\n",
       " (54, 19523),\n",
       " (18, 19300),\n",
       " (142, 19297),\n",
       " (44, 19197),\n",
       " (69, 19026),\n",
       " (80, 18928),\n",
       " (50, 18772),\n",
       " (81, 18694),\n",
       " (93, 18689),\n",
       " (16, 18634),\n",
       " (7, 18569),\n",
       " (27, 18490),\n",
       " (66, 18441),\n",
       " (154, 18432),\n",
       " (33, 18224),\n",
       " (89, 18211),\n",
       " (63, 18184),\n",
       " (25, 18137),\n",
       " (12, 18136),\n",
       " (126, 17863),\n",
       " (47, 17800),\n",
       " (20, 17665),\n",
       " (51, 17569),\n",
       " (153, 17425),\n",
       " (2, 17080),\n",
       " (102, 16775),\n",
       " (116, 16677),\n",
       " (123, 16504),\n",
       " (4, 16237),\n",
       " (137, 16070),\n",
       " (124, 15957),\n",
       " (121, 15859),\n",
       " (94, 15645),\n",
       " (125, 15604),\n",
       " (148, 15474),\n",
       " (92, 14975),\n",
       " (87, 14910),\n",
       " (5, 14892),\n",
       " (72, 14727),\n",
       " (34, 14480),\n",
       " (60, 14438),\n",
       " (143, 14352),\n",
       " (122, 14167),\n",
       " (140, 13878),\n",
       " (127, 13722),\n",
       " (40, 13485),\n",
       " (109, 13485),\n",
       " (35, 13466),\n",
       " (159, 13456),\n",
       " (11, 13450),\n",
       " (165, 13424),\n",
       " (15, 13039),\n",
       " (85, 12940),\n",
       " (39, 12875),\n",
       " (158, 12799),\n",
       " (36, 12783),\n",
       " (112, 12709),\n",
       " (141, 12242),\n",
       " (117, 12233),\n",
       " (174, 11901),\n",
       " (101, 11800),\n",
       " (107, 11745),\n",
       " (100, 11662),\n",
       " (98, 11299),\n",
       " (97, 11196),\n",
       " (32, 11192),\n",
       " (152, 11136),\n",
       " (111, 11124),\n",
       " (147, 10633),\n",
       " (151, 10449),\n",
       " (105, 10416),\n",
       " (146, 10329),\n",
       " (104, 10226),\n",
       " (138, 9990),\n",
       " (61, 9232),\n",
       " (150, 8632),\n",
       " (120, 8495),\n",
       " (144, 7454),\n",
       " (88, 7448),\n",
       " (173, 7348),\n",
       " (29, 6660),\n",
       " (119, 6030),\n",
       " (23, 5520),\n",
       " (24, 5098),\n",
       " (28, 4786),\n",
       " (37, 4085),\n",
       " (2008, 17)]"
      ]
     },
     "execution_count": 81,
     "metadata": {},
     "output_type": "execute_result"
    }
   ],
   "source": [
    "start_data"
   ]
  },
  {
   "cell_type": "code",
   "execution_count": 124,
   "id": "61d6ff9d",
   "metadata": {},
   "outputs": [
    {
     "name": "stderr",
     "output_type": "stream",
     "text": [
      "                                                                                \r"
     ]
    }
   ],
   "source": [
    "#Separate by end station\n",
    "end_station = rdd['2018'].map(lambda x: x['end_station']).countByValue()\n",
    "end_data = sorted(dict(end_station).items(), key=lambda x:x[1], reverse=True) "
   ]
  },
  {
   "cell_type": "code",
   "execution_count": 18,
   "id": "08f6e37e",
   "metadata": {},
   "outputs": [
    {
     "data": {
      "text/plain": [
       "[(43, 3314),\n",
       " (175, 3240),\n",
       " (129, 3229),\n",
       " (57, 3153),\n",
       " (135, 3050),\n",
       " (163, 2916),\n",
       " (168, 2764),\n",
       " (149, 2756),\n",
       " (90, 2608),\n",
       " (83, 2518),\n",
       " (64, 2493),\n",
       " (162, 2492),\n",
       " (160, 2473),\n",
       " (49, 2418),\n",
       " (45, 2380),\n",
       " (9, 2359),\n",
       " (58, 2242),\n",
       " (108, 2184),\n",
       " (132, 2110),\n",
       " (59, 2049),\n",
       " (133, 2043),\n",
       " (79, 2026),\n",
       " (74, 2005),\n",
       " (128, 1991),\n",
       " (164, 1980),\n",
       " (1, 1911),\n",
       " (42, 1909),\n",
       " (13, 1895),\n",
       " (41, 1885),\n",
       " (161, 1884),\n",
       " (170, 1834),\n",
       " (56, 1833),\n",
       " (52, 1812),\n",
       " (26, 1802),\n",
       " (6, 1796),\n",
       " (75, 1766),\n",
       " (166, 1755),\n",
       " (95, 1752),\n",
       " (31, 1742),\n",
       " (78, 1734),\n",
       " (169, 1730),\n",
       " (38, 1722),\n",
       " (113, 1699),\n",
       " (19, 1658),\n",
       " (136, 1643),\n",
       " (131, 1631),\n",
       " (82, 1622),\n",
       " (46, 1621),\n",
       " (30, 1600),\n",
       " (91, 1595),\n",
       " (84, 1589),\n",
       " (23, 1587),\n",
       " (48, 1569),\n",
       " (65, 1563),\n",
       " (114, 1552),\n",
       " (62, 1521),\n",
       " (77, 1510),\n",
       " (134, 1499),\n",
       " (71, 1497),\n",
       " (55, 1488),\n",
       " (86, 1469),\n",
       " (157, 1460),\n",
       " (115, 1457),\n",
       " (139, 1452),\n",
       " (130, 1446),\n",
       " (99, 1444),\n",
       " (76, 1401),\n",
       " (118, 1386),\n",
       " (110, 1368),\n",
       " (106, 1357),\n",
       " (69, 1356),\n",
       " (3, 1337),\n",
       " (155, 1332),\n",
       " (145, 1319),\n",
       " (17, 1302),\n",
       " (73, 1297),\n",
       " (16, 1292),\n",
       " (96, 1278),\n",
       " (10, 1278),\n",
       " (14, 1270),\n",
       " (156, 1261),\n",
       " (93, 1261),\n",
       " (142, 1257),\n",
       " (67, 1252),\n",
       " (54, 1234),\n",
       " (7, 1232),\n",
       " (63, 1220),\n",
       " (66, 1219),\n",
       " (172, 1219),\n",
       " (167, 1204),\n",
       " (103, 1200),\n",
       " (21, 1196),\n",
       " (80, 1193),\n",
       " (8, 1190),\n",
       " (20, 1187),\n",
       " (44, 1175),\n",
       " (81, 1174),\n",
       " (89, 1164),\n",
       " (32, 1163),\n",
       " (33, 1163),\n",
       " (18, 1151),\n",
       " (50, 1151),\n",
       " (53, 1131),\n",
       " (47, 1124),\n",
       " (27, 1121),\n",
       " (171, 1109),\n",
       " (12, 1104),\n",
       " (153, 1098),\n",
       " (51, 1089),\n",
       " (121, 1089),\n",
       " (126, 1077),\n",
       " (2, 1072),\n",
       " (25, 1067),\n",
       " (72, 1047),\n",
       " (154, 1038),\n",
       " (125, 1035),\n",
       " (148, 990),\n",
       " (116, 984),\n",
       " (92, 979),\n",
       " (94, 971),\n",
       " (102, 964),\n",
       " (24, 962),\n",
       " (123, 959),\n",
       " (87, 953),\n",
       " (4, 950),\n",
       " (137, 944),\n",
       " (5, 933),\n",
       " (159, 930),\n",
       " (124, 927),\n",
       " (34, 923),\n",
       " (11, 914),\n",
       " (165, 897),\n",
       " (127, 886),\n",
       " (15, 856),\n",
       " (85, 837),\n",
       " (40, 828),\n",
       " (107, 820),\n",
       " (122, 819),\n",
       " (39, 813),\n",
       " (143, 813),\n",
       " (100, 798),\n",
       " (141, 795),\n",
       " (109, 783),\n",
       " (35, 781),\n",
       " (158, 769),\n",
       " (36, 763),\n",
       " (112, 757),\n",
       " (97, 720),\n",
       " (140, 716),\n",
       " (174, 695),\n",
       " (152, 676),\n",
       " (98, 666),\n",
       " (117, 658),\n",
       " (101, 655),\n",
       " (151, 643),\n",
       " (146, 616),\n",
       " (61, 599),\n",
       " (147, 579),\n",
       " (104, 573),\n",
       " (138, 564),\n",
       " (105, 562),\n",
       " (111, 557),\n",
       " (120, 531),\n",
       " (37, 490),\n",
       " (88, 465),\n",
       " (150, 461),\n",
       " (60, 459),\n",
       " (173, 451),\n",
       " (144, 448),\n",
       " (29, 418),\n",
       " (119, 354),\n",
       " (28, 282)]"
      ]
     },
     "execution_count": 18,
     "metadata": {},
     "output_type": "execute_result"
    }
   ],
   "source": [
    "end_data"
   ]
  },
  {
   "cell_type": "code",
   "execution_count": 128,
   "id": "f2f5dfa6",
   "metadata": {},
   "outputs": [
    {
     "name": "stdout",
     "output_type": "stream",
     "text": [
      "-------------  ------------\n",
      "Start station  No. of trips\n",
      "135            52550\n",
      "175            50888\n",
      "43             50659\n",
      "129            49472\n",
      "163            49366\n",
      "57             48673\n",
      "149            45099\n",
      "90             42454\n",
      "168            41935\n",
      "64             40367\n",
      "-------------  ------------\n"
     ]
    }
   ],
   "source": [
    "start_table = [['Start station', 'No. of trips'],\n",
    "         [start_data[0:10][0][0], start_data[0:10][0][1]],\n",
    "         [start_data[0:10][1][0], start_data[0:10][1][1]],\n",
    "         [start_data[0:10][2][0], start_data[0:10][2][1]],\n",
    "         [start_data[0:10][3][0], start_data[0:10][3][1]],\n",
    "         [start_data[0:10][4][0], start_data[0:10][4][1]],\n",
    "         [start_data[0:10][5][0], start_data[0:10][5][1]],\n",
    "         [start_data[0:10][6][0], start_data[0:10][6][1]],\n",
    "               \n",
    "         [start_data[0:10][7][0], start_data[0:10][7][1]],\n",
    "         [start_data[0:10][8][0], start_data[0:10][8][1]],\n",
    "         [start_data[0:10][9][0], start_data[0:10][9][1]]]\n",
    "print(tabulate(start_table))"
   ]
  },
  {
   "cell_type": "code",
   "execution_count": 129,
   "id": "6de83511",
   "metadata": {},
   "outputs": [
    {
     "name": "stdout",
     "output_type": "stream",
     "text": [
      "-----------  ------------\n",
      "End station  No. of trips\n",
      "135          53898\n",
      "175          51297\n",
      "43           51242\n",
      "129          50132\n",
      "163          49562\n",
      "57           48394\n",
      "149          44970\n",
      "90           42724\n",
      "168          42348\n",
      "64           40068\n",
      "-----------  ------------\n"
     ]
    }
   ],
   "source": [
    "end_table = [['End station', 'No. of trips'],\n",
    "         [end_data[0:10][0][0], end_data[0:10][0][1]],\n",
    "         [end_data[0:10][1][0], end_data[0:10][1][1]],\n",
    "         [end_data[0:10][2][0], end_data[0:10][2][1]],\n",
    "         [end_data[0:10][3][0], end_data[0:10][3][1]],\n",
    "         [end_data[0:10][4][0], end_data[0:10][4][1]],\n",
    "         [end_data[0:10][5][0], end_data[0:10][5][1]],\n",
    "         [end_data[0:10][6][0], end_data[0:10][6][1]],\n",
    "         [end_data[0:10][7][0], end_data[0:10][7][1]],\n",
    "         [end_data[0:10][8][0], end_data[0:10][8][1]],\n",
    "         [end_data[0:10][9][0], end_data[0:10][9][1]]]\n",
    "print(tabulate(end_table))"
   ]
  },
  {
   "cell_type": "code",
   "execution_count": 130,
   "id": "77f4f335",
   "metadata": {},
   "outputs": [
    {
     "data": {
      "text/plain": [
       "[False]"
      ]
     },
     "execution_count": 130,
     "metadata": {},
     "output_type": "execute_result"
    }
   ],
   "source": [
    "#get the name of each station with help from rdd_stations\n",
    "station_info = rdd_station['2018'].map(lambda x: x['id']==end_data[0][0]).countByValue()\n",
    "list(station_info.keys())"
   ]
  },
  {
   "cell_type": "code",
   "execution_count": null,
   "id": "3441d05a",
   "metadata": {},
   "outputs": [],
   "source": []
  },
  {
   "cell_type": "markdown",
   "id": "fe97e157",
   "metadata": {},
   "source": [
    "They are the same for both end stations and start stations. \n",
    "\n"
   ]
  },
  {
   "cell_type": "markdown",
   "id": "cfcba098",
   "metadata": {},
   "source": [
    "## Analysis of monthly travels\n"
   ]
  },
  {
   "cell_type": "code",
   "execution_count": 174,
   "id": "05975aa4",
   "metadata": {
    "scrolled": false
   },
   "outputs": [
    {
     "name": "stderr",
     "output_type": "stream",
     "text": [
      "[Stage 139:====================================================>(210 + 4) / 214]\r"
     ]
    },
    {
     "name": "stdout",
     "output_type": "stream",
     "text": [
      "defaultdict(<class 'int'>, {'01': 8512.225806451614, '02': 8289.392857142857, '03': 6957.8387096774195, '04': 9914.566666666668, '05': 10341.67857142857, '06': 12111.074074074075, '07': 12337.193548387097, '08': 9468.896551724138, '09': 14545.266666666666, '10': 12444.290322580646, '11': 10004.366666666667, '12': 8809.516129032258})\n"
     ]
    },
    {
     "name": "stderr",
     "output_type": "stream",
     "text": [
      "\r",
      "[Stage 139:====================================================>(211 + 3) / 214]\r",
      "\r",
      "                                                                                \r"
     ]
    }
   ],
   "source": [
    "list_month=['01','02','03','04','05','06','07','08','09','10','11','12']\n",
    "\n",
    "daily_trips = rdd['2018'].map(lambda x: x['month']).countByValue()\n",
    "for month in list_month:\n",
    "    rdd_aux = rdd['2018'].filter(lambda x: x['month']==month)\n",
    "    total_day = len(list(rdd_aux.map(lambda x: x['day']).countByValue()))\n",
    "    daily_trips[month] = daily_trips[month]/total_day\n",
    "\n",
    "print(daily_trips)\n",
    "\n"
   ]
  },
  {
   "cell_type": "code",
   "execution_count": 181,
   "id": "27160b85",
   "metadata": {},
   "outputs": [],
   "source": [
    "l = list(daily_trips.values())"
   ]
  },
  {
   "cell_type": "code",
   "execution_count": 216,
   "id": "f5d5b0d7",
   "metadata": {},
   "outputs": [],
   "source": [
    "winter = sum(l[0:3]) #jan, feb, march\n",
    "spring = sum(l[3:6]) #april, may, june\n",
    "summer = sum(l[6:9]) #july, ,august, september\n",
    "autumn = sum(l[9:12]) #october, november, december"
   ]
  },
  {
   "cell_type": "code",
   "execution_count": 218,
   "id": "22e1db96",
   "metadata": {},
   "outputs": [
    {
     "data": {
      "text/plain": [
       "[12444.290322580646, 10004.366666666667, 8809.516129032258]"
      ]
     },
     "execution_count": 218,
     "metadata": {},
     "output_type": "execute_result"
    }
   ],
   "source": []
  },
  {
   "cell_type": "code",
   "execution_count": 219,
   "id": "b302292b",
   "metadata": {},
   "outputs": [
    {
     "data": {
      "image/png": "[encoded data removed]",
      "text/plain": [
       "<Figure size 576x720 with 1 Axes>"
      ]
     },
     "metadata": {
      "needs_background": "light"
     },
     "output_type": "display_data"
    }
   ],
   "source": [
    "plt.figure(figsize=(8,10))\n",
    "plt.title('')\n",
    "names = ['jan', 'feb', 'mar', 'apr', 'may', 'jun', 'jul', 'aug', 'sep', 'oct', 'nov', 'dic'] \n",
    "values = list(daily_trips.values())\n",
    "plt.bar(names, values, width=0.7)\n",
    "plt.xlabel('month', fontsize=18)\n",
    "plt.ylabel('average daily rides per month', fontsize=16)\n",
    "plt.show()"
   ]
  },
  {
   "cell_type": "markdown",
   "id": "612ac664",
   "metadata": {},
   "source": [
    "Aa we can notice, the service is most used during the warm and dry months. Exception is made for august, the holiday month. March is the least popular month for bikes, probably due to the rain as these data confirms https://it.weatherspark.com/h/y/36848/2018/Condizioni-meteorologiche-storiche-durante-il-2018-a-Madrid-Spagna#Figures-Summary"
   ]
  },
  {
   "cell_type": "code",
   "execution_count": 220,
   "id": "a35c0bee",
   "metadata": {},
   "outputs": [
    {
     "data": {
      "image/png": "[encoded data removed]",
      "text/plain": [
       "<Figure size 576x720 with 1 Axes>"
      ]
     },
     "metadata": {
      "needs_background": "light"
     },
     "output_type": "display_data"
    }
   ],
   "source": [
    "plt.figure(figsize=(8,10))\n",
    "plt.title('')\n",
    "names = [\"spring\", \"summer\", \"autumn\", \"winter\"]\n",
    "values = [spring, summer, autumn, winter]\n",
    "plt.bar(names, values, width=0.7)\n",
    "plt.xlabel('season', fontsize=18)\n",
    "plt.ylabel('average daily rides per season', fontsize=16)\n",
    "plt.show()"
   ]
  },
  {
   "cell_type": "code",
   "execution_count": 221,
   "id": "8d48766f",
   "metadata": {},
   "outputs": [
    {
     "data": {
      "image/png": "[encoded data removed]",
      "text/plain": [
       "<Figure size 432x432 with 1 Axes>"
      ]
     },
     "metadata": {},
     "output_type": "display_data"
    }
   ],
   "source": [
    "\n",
    "labels = 'spring', 'summer', 'autumn', 'winter'\n",
    "sizes = [spring, summer, autumn, winter]\n",
    "explode = (0, 0.05, 0.08, 0)  # only \"explode\" the 2nd slice (i.e. 'Hogs')\n",
    "plt.figure(figsize=(6,6))\n",
    "plt.pie(sizes, explode=explode, labels=labels, autopct='%1.1f%%',\n",
    "        shadow=True, startangle=90, radius=1.4)\n",
    "plt.show()"
   ]
  },
  {
   "cell_type": "markdown",
   "id": "3e144741",
   "metadata": {},
   "source": [
    "As the graph reveals, summer is the most popular season for cycling in the city. Accordingly to common sense, the cold and wet seasons are a big deterrent for bikers."
   ]
  },
  {
   "cell_type": "markdown",
   "id": "bdd89b2f",
   "metadata": {},
   "source": [
    "## Analysis between day/night\n",
    "\n",
    "here we are analysing when the users prefer riding\n",
    "\n",
    "\n"
   ]
  },
  {
   "cell_type": "code",
   "execution_count": 44,
   "id": "0fb243b7",
   "metadata": {},
   "outputs": [],
   "source": [
    "#Check between day and night\n",
    "def find_night(data):\n",
    "    hour_start = 18\n",
    "    hour_mid1 = 0\n",
    "    hour_mid2 = 23\n",
    "    hour_end = 6\n",
    "    \n",
    "    current_hour = int(data['hour'][0:2])\n",
    "    \n",
    "    curret_hour = 3\n",
    "    \n",
    "    if current_hour < hour_end and current_hour >= hour_mid1: #night\n",
    "        return True\n",
    "    elif current_hour > hour_start and current_hour <= hour_mid2: #night\n",
    "        return True\n",
    "    elif current_hour > hour_end and current_hour <= hour_start: #day\n",
    "        return False"
   ]
  },
  {
   "cell_type": "code",
   "execution_count": 45,
   "id": "9f7822e3",
   "metadata": {},
   "outputs": [
    {
     "name": "stderr",
     "output_type": "stream",
     "text": [
      "                                                                                \r"
     ]
    },
    {
     "data": {
      "text/plain": [
       "85857"
      ]
     },
     "execution_count": 45,
     "metadata": {},
     "output_type": "execute_result"
    }
   ],
   "source": [
    "#Find the data for the nights\n",
    "rdd_night = rdd['2018'].filter(lambda x: find_night(x))\n",
    "\n",
    "\n",
    "#Count the number of users during the night\n",
    "#night_data = rdd_night.map(lambda x: x['user_type']).count()\n",
    "rdd_night.count()"
   ]
  },
  {
   "cell_type": "code",
   "execution_count": 46,
   "id": "62a00f39",
   "metadata": {},
   "outputs": [
    {
     "name": "stderr",
     "output_type": "stream",
     "text": [
      "                                                                                \r"
     ]
    }
   ],
   "source": [
    "#Find the data for the days\n",
    "rdd_day = rdd['2018'].filter(lambda x: not(find_night(x))) #we do not so true-->false\n",
    "\n",
    "#Count the number of users during the day\n",
    "#day_data = rdd_day.map(lambda x: x['user_type']).count()\n",
    "day_count = rdd_day.count()"
   ]
  },
  {
   "cell_type": "code",
   "execution_count": null,
   "id": "0d37bb03",
   "metadata": {},
   "outputs": [],
   "source": [
    "night_count\n",
    "day_count"
   ]
  },
  {
   "cell_type": "code",
   "execution_count": 78,
   "id": "e8ecdc0c",
   "metadata": {},
   "outputs": [
    {
     "data": {
      "image/png": "[encoded data removed]",
      "text/plain": [
       "<Figure size 576x720 with 1 Axes>"
      ]
     },
     "metadata": {
      "needs_background": "light"
     },
     "output_type": "display_data"
    }
   ],
   "source": [
    "#Plotting the figure\n",
    "plt.figure(figsize=(8,10))\n",
    "plt.title('Distribution of no. of rides during day/night')\n",
    "names = ['Day', 'Night']#list(user_data.keys()) \n",
    "values = [day_data,night_data] #list(user_data.values())\n",
    "plt.bar(names, values, width=0.7)\n",
    "plt.xlabel('Time of day', fontsize=18)\n",
    "plt.ylabel('Number of users', fontsize=16)\n",
    "names.sort()\n",
    "plt.xticks(names, [\"Day\",\"Night\"])\n",
    "plt.show()"
   ]
  },
  {
   "cell_type": "markdown",
   "id": "93f20e00",
   "metadata": {},
   "source": [
    "CONCLUSIONS,\n",
    "\n",
    "As we expected, there are more rides in the day than in the night. We can see that during the day there are more than 2000000 rides, but at night there are less than 1500000.\n",
    "\n",
    "Now we are looking to se how the distribution of the user type changes during the day and night. We use the rdd_day/rdd_night that we created before to filter into day and night."
   ]
  },
  {
   "cell_type": "code",
   "execution_count": 49,
   "id": "bcfc9b14",
   "metadata": {},
   "outputs": [
    {
     "name": "stderr",
     "output_type": "stream",
     "text": [
      "                                                                                \r"
     ]
    },
    {
     "data": {
      "text/plain": [
       "defaultdict(int, {1: 155676, 2: 2313, 3: 19856})"
      ]
     },
     "execution_count": 49,
     "metadata": {},
     "output_type": "execute_result"
    }
   ],
   "source": [
    "#Separate by user type during day\n",
    "day_user = rdd_day.map(lambda x: x['user_type']).countByValue()\n",
    "day_user"
   ]
  },
  {
   "cell_type": "code",
   "execution_count": 47,
   "id": "2615805c",
   "metadata": {},
   "outputs": [
    {
     "name": "stderr",
     "output_type": "stream",
     "text": [
      "                                                                                \r"
     ]
    },
    {
     "data": {
      "text/plain": [
       "defaultdict(int, {1: 76323, 2: 566, 3: 8968})"
      ]
     },
     "execution_count": 47,
     "metadata": {},
     "output_type": "execute_result"
    }
   ],
   "source": [
    "#Separate by user type during night\n",
    "night_user = rdd_night.map(lambda x: x['user_type']).countByValue()\n",
    "night_user"
   ]
  },
  {
   "cell_type": "code",
   "execution_count": 52,
   "id": "94a98211",
   "metadata": {},
   "outputs": [
    {
     "ename": "ValueError",
     "evalue": "shape mismatch: objects cannot be broadcast to a single shape.  Mismatch is between arg 0 with shape (8,) and arg 1 with shape (6,).",
     "output_type": "error",
     "traceback": [
      "\u001b[0;31m---------------------------------------------------------------------------\u001b[0m",
      "\u001b[0;31mValueError\u001b[0m                                Traceback (most recent call last)",
      "Input \u001b[0;32mIn [52]\u001b[0m, in \u001b[0;36m<module>\u001b[0;34m\u001b[0m\n\u001b[1;32m      6\u001b[0m \u001b[38;5;66;03m#total users\u001b[39;00m\n\u001b[1;32m      7\u001b[0m values \u001b[38;5;241m=\u001b[39m \u001b[38;5;28mlist\u001b[39m(day_user\u001b[38;5;241m.\u001b[39mvalues()) \u001b[38;5;241m+\u001b[39m \u001b[38;5;28mlist\u001b[39m(night_user\u001b[38;5;241m.\u001b[39mvalues())\n\u001b[0;32m----> 8\u001b[0m \u001b[43mplt\u001b[49m\u001b[38;5;241;43m.\u001b[39;49m\u001b[43mbar\u001b[49m\u001b[43m(\u001b[49m\u001b[43mnames\u001b[49m\u001b[43m,\u001b[49m\u001b[43m \u001b[49m\u001b[43mvalues\u001b[49m\u001b[43m,\u001b[49m\u001b[43m \u001b[49m\u001b[43mwidth\u001b[49m\u001b[38;5;241;43m=\u001b[39;49m\u001b[38;5;241;43m1\u001b[39;49m\u001b[43m)\u001b[49m\n\u001b[1;32m      9\u001b[0m plt\u001b[38;5;241m.\u001b[39mxlabel(\u001b[38;5;124m'\u001b[39m\u001b[38;5;124mUser type and time of day\u001b[39m\u001b[38;5;124m'\u001b[39m, fontsize\u001b[38;5;241m=\u001b[39m\u001b[38;5;241m20\u001b[39m)\n\u001b[1;32m     10\u001b[0m plt\u001b[38;5;241m.\u001b[39mylabel(\u001b[38;5;124m'\u001b[39m\u001b[38;5;124mNumber of users\u001b[39m\u001b[38;5;124m'\u001b[39m, fontsize\u001b[38;5;241m=\u001b[39m\u001b[38;5;241m16\u001b[39m)\n",
      "File \u001b[0;32m/Library/Frameworks/Python.framework/Versions/3.9/lib/python3.9/site-packages/matplotlib/pyplot.py:2399\u001b[0m, in \u001b[0;36mbar\u001b[0;34m(x, height, width, bottom, align, data, **kwargs)\u001b[0m\n\u001b[1;32m   2395\u001b[0m \u001b[38;5;129m@_copy_docstring_and_deprecators\u001b[39m(Axes\u001b[38;5;241m.\u001b[39mbar)\n\u001b[1;32m   2396\u001b[0m \u001b[38;5;28;01mdef\u001b[39;00m \u001b[38;5;21mbar\u001b[39m(\n\u001b[1;32m   2397\u001b[0m         x, height, width\u001b[38;5;241m=\u001b[39m\u001b[38;5;241m0.8\u001b[39m, bottom\u001b[38;5;241m=\u001b[39m\u001b[38;5;28;01mNone\u001b[39;00m, \u001b[38;5;241m*\u001b[39m, align\u001b[38;5;241m=\u001b[39m\u001b[38;5;124m'\u001b[39m\u001b[38;5;124mcenter\u001b[39m\u001b[38;5;124m'\u001b[39m,\n\u001b[1;32m   2398\u001b[0m         data\u001b[38;5;241m=\u001b[39m\u001b[38;5;28;01mNone\u001b[39;00m, \u001b[38;5;241m*\u001b[39m\u001b[38;5;241m*\u001b[39mkwargs):\n\u001b[0;32m-> 2399\u001b[0m     \u001b[38;5;28;01mreturn\u001b[39;00m \u001b[43mgca\u001b[49m\u001b[43m(\u001b[49m\u001b[43m)\u001b[49m\u001b[38;5;241;43m.\u001b[39;49m\u001b[43mbar\u001b[49m\u001b[43m(\u001b[49m\n\u001b[1;32m   2400\u001b[0m \u001b[43m        \u001b[49m\u001b[43mx\u001b[49m\u001b[43m,\u001b[49m\u001b[43m \u001b[49m\u001b[43mheight\u001b[49m\u001b[43m,\u001b[49m\u001b[43m \u001b[49m\u001b[43mwidth\u001b[49m\u001b[38;5;241;43m=\u001b[39;49m\u001b[43mwidth\u001b[49m\u001b[43m,\u001b[49m\u001b[43m \u001b[49m\u001b[43mbottom\u001b[49m\u001b[38;5;241;43m=\u001b[39;49m\u001b[43mbottom\u001b[49m\u001b[43m,\u001b[49m\u001b[43m \u001b[49m\u001b[43malign\u001b[49m\u001b[38;5;241;43m=\u001b[39;49m\u001b[43malign\u001b[49m\u001b[43m,\u001b[49m\n\u001b[1;32m   2401\u001b[0m \u001b[43m        \u001b[49m\u001b[38;5;241;43m*\u001b[39;49m\u001b[38;5;241;43m*\u001b[39;49m\u001b[43m(\u001b[49m\u001b[43m{\u001b[49m\u001b[38;5;124;43m\"\u001b[39;49m\u001b[38;5;124;43mdata\u001b[39;49m\u001b[38;5;124;43m\"\u001b[39;49m\u001b[43m:\u001b[49m\u001b[43m \u001b[49m\u001b[43mdata\u001b[49m\u001b[43m}\u001b[49m\u001b[43m \u001b[49m\u001b[38;5;28;43;01mif\u001b[39;49;00m\u001b[43m \u001b[49m\u001b[43mdata\u001b[49m\u001b[43m \u001b[49m\u001b[38;5;129;43;01mis\u001b[39;49;00m\u001b[43m \u001b[49m\u001b[38;5;129;43;01mnot\u001b[39;49;00m\u001b[43m \u001b[49m\u001b[38;5;28;43;01mNone\u001b[39;49;00m\u001b[43m \u001b[49m\u001b[38;5;28;43;01melse\u001b[39;49;00m\u001b[43m \u001b[49m\u001b[43m{\u001b[49m\u001b[43m}\u001b[49m\u001b[43m)\u001b[49m\u001b[43m,\u001b[49m\u001b[43m \u001b[49m\u001b[38;5;241;43m*\u001b[39;49m\u001b[38;5;241;43m*\u001b[39;49m\u001b[43mkwargs\u001b[49m\u001b[43m)\u001b[49m\n",
      "File \u001b[0;32m/Library/Frameworks/Python.framework/Versions/3.9/lib/python3.9/site-packages/matplotlib/__init__.py:1412\u001b[0m, in \u001b[0;36m_preprocess_data.<locals>.inner\u001b[0;34m(ax, data, *args, **kwargs)\u001b[0m\n\u001b[1;32m   1409\u001b[0m \u001b[38;5;129m@functools\u001b[39m\u001b[38;5;241m.\u001b[39mwraps(func)\n\u001b[1;32m   1410\u001b[0m \u001b[38;5;28;01mdef\u001b[39;00m \u001b[38;5;21minner\u001b[39m(ax, \u001b[38;5;241m*\u001b[39margs, data\u001b[38;5;241m=\u001b[39m\u001b[38;5;28;01mNone\u001b[39;00m, \u001b[38;5;241m*\u001b[39m\u001b[38;5;241m*\u001b[39mkwargs):\n\u001b[1;32m   1411\u001b[0m     \u001b[38;5;28;01mif\u001b[39;00m data \u001b[38;5;129;01mis\u001b[39;00m \u001b[38;5;28;01mNone\u001b[39;00m:\n\u001b[0;32m-> 1412\u001b[0m         \u001b[38;5;28;01mreturn\u001b[39;00m \u001b[43mfunc\u001b[49m\u001b[43m(\u001b[49m\u001b[43max\u001b[49m\u001b[43m,\u001b[49m\u001b[43m \u001b[49m\u001b[38;5;241;43m*\u001b[39;49m\u001b[38;5;28;43mmap\u001b[39;49m\u001b[43m(\u001b[49m\u001b[43msanitize_sequence\u001b[49m\u001b[43m,\u001b[49m\u001b[43m \u001b[49m\u001b[43margs\u001b[49m\u001b[43m)\u001b[49m\u001b[43m,\u001b[49m\u001b[43m \u001b[49m\u001b[38;5;241;43m*\u001b[39;49m\u001b[38;5;241;43m*\u001b[39;49m\u001b[43mkwargs\u001b[49m\u001b[43m)\u001b[49m\n\u001b[1;32m   1414\u001b[0m     bound \u001b[38;5;241m=\u001b[39m new_sig\u001b[38;5;241m.\u001b[39mbind(ax, \u001b[38;5;241m*\u001b[39margs, \u001b[38;5;241m*\u001b[39m\u001b[38;5;241m*\u001b[39mkwargs)\n\u001b[1;32m   1415\u001b[0m     auto_label \u001b[38;5;241m=\u001b[39m (bound\u001b[38;5;241m.\u001b[39marguments\u001b[38;5;241m.\u001b[39mget(label_namer)\n\u001b[1;32m   1416\u001b[0m                   \u001b[38;5;129;01mor\u001b[39;00m bound\u001b[38;5;241m.\u001b[39mkwargs\u001b[38;5;241m.\u001b[39mget(label_namer))\n",
      "File \u001b[0;32m/Library/Frameworks/Python.framework/Versions/3.9/lib/python3.9/site-packages/matplotlib/axes/_axes.py:2342\u001b[0m, in \u001b[0;36mAxes.bar\u001b[0;34m(self, x, height, width, bottom, align, **kwargs)\u001b[0m\n\u001b[1;32m   2339\u001b[0m     \u001b[38;5;28;01mif\u001b[39;00m yerr \u001b[38;5;129;01mis\u001b[39;00m \u001b[38;5;129;01mnot\u001b[39;00m \u001b[38;5;28;01mNone\u001b[39;00m:\n\u001b[1;32m   2340\u001b[0m         yerr \u001b[38;5;241m=\u001b[39m \u001b[38;5;28mself\u001b[39m\u001b[38;5;241m.\u001b[39m_convert_dx(yerr, y0, y, \u001b[38;5;28mself\u001b[39m\u001b[38;5;241m.\u001b[39mconvert_yunits)\n\u001b[0;32m-> 2342\u001b[0m x, height, width, y, linewidth, hatch \u001b[38;5;241m=\u001b[39m \u001b[43mnp\u001b[49m\u001b[38;5;241;43m.\u001b[39;49m\u001b[43mbroadcast_arrays\u001b[49m\u001b[43m(\u001b[49m\n\u001b[1;32m   2343\u001b[0m \u001b[43m    \u001b[49m\u001b[38;5;66;43;03m# Make args iterable too.\u001b[39;49;00m\n\u001b[1;32m   2344\u001b[0m \u001b[43m    \u001b[49m\u001b[43mnp\u001b[49m\u001b[38;5;241;43m.\u001b[39;49m\u001b[43matleast_1d\u001b[49m\u001b[43m(\u001b[49m\u001b[43mx\u001b[49m\u001b[43m)\u001b[49m\u001b[43m,\u001b[49m\u001b[43m \u001b[49m\u001b[43mheight\u001b[49m\u001b[43m,\u001b[49m\u001b[43m \u001b[49m\u001b[43mwidth\u001b[49m\u001b[43m,\u001b[49m\u001b[43m \u001b[49m\u001b[43my\u001b[49m\u001b[43m,\u001b[49m\u001b[43m \u001b[49m\u001b[43mlinewidth\u001b[49m\u001b[43m,\u001b[49m\u001b[43m \u001b[49m\u001b[43mhatch\u001b[49m\u001b[43m)\u001b[49m\n\u001b[1;32m   2346\u001b[0m \u001b[38;5;66;03m# Now that units have been converted, set the tick locations.\u001b[39;00m\n\u001b[1;32m   2347\u001b[0m \u001b[38;5;28;01mif\u001b[39;00m orientation \u001b[38;5;241m==\u001b[39m \u001b[38;5;124m'\u001b[39m\u001b[38;5;124mvertical\u001b[39m\u001b[38;5;124m'\u001b[39m:\n",
      "File \u001b[0;32m<__array_function__ internals>:180\u001b[0m, in \u001b[0;36mbroadcast_arrays\u001b[0;34m(*args, **kwargs)\u001b[0m\n",
      "File \u001b[0;32m/Library/Frameworks/Python.framework/Versions/3.9/lib/python3.9/site-packages/numpy/lib/stride_tricks.py:539\u001b[0m, in \u001b[0;36mbroadcast_arrays\u001b[0;34m(subok, *args)\u001b[0m\n\u001b[1;32m    532\u001b[0m \u001b[38;5;66;03m# nditer is not used here to avoid the limit of 32 arrays.\u001b[39;00m\n\u001b[1;32m    533\u001b[0m \u001b[38;5;66;03m# Otherwise, something like the following one-liner would suffice:\u001b[39;00m\n\u001b[1;32m    534\u001b[0m \u001b[38;5;66;03m# return np.nditer(args, flags=['multi_index', 'zerosize_ok'],\u001b[39;00m\n\u001b[1;32m    535\u001b[0m \u001b[38;5;66;03m#                  order='C').itviews\u001b[39;00m\n\u001b[1;32m    537\u001b[0m args \u001b[38;5;241m=\u001b[39m [np\u001b[38;5;241m.\u001b[39marray(_m, copy\u001b[38;5;241m=\u001b[39m\u001b[38;5;28;01mFalse\u001b[39;00m, subok\u001b[38;5;241m=\u001b[39msubok) \u001b[38;5;28;01mfor\u001b[39;00m _m \u001b[38;5;129;01min\u001b[39;00m args]\n\u001b[0;32m--> 539\u001b[0m shape \u001b[38;5;241m=\u001b[39m \u001b[43m_broadcast_shape\u001b[49m\u001b[43m(\u001b[49m\u001b[38;5;241;43m*\u001b[39;49m\u001b[43margs\u001b[49m\u001b[43m)\u001b[49m\n\u001b[1;32m    541\u001b[0m \u001b[38;5;28;01mif\u001b[39;00m \u001b[38;5;28mall\u001b[39m(array\u001b[38;5;241m.\u001b[39mshape \u001b[38;5;241m==\u001b[39m shape \u001b[38;5;28;01mfor\u001b[39;00m array \u001b[38;5;129;01min\u001b[39;00m args):\n\u001b[1;32m    542\u001b[0m     \u001b[38;5;66;03m# Common case where nothing needs to be broadcasted.\u001b[39;00m\n\u001b[1;32m    543\u001b[0m     \u001b[38;5;28;01mreturn\u001b[39;00m args\n",
      "File \u001b[0;32m/Library/Frameworks/Python.framework/Versions/3.9/lib/python3.9/site-packages/numpy/lib/stride_tricks.py:421\u001b[0m, in \u001b[0;36m_broadcast_shape\u001b[0;34m(*args)\u001b[0m\n\u001b[1;32m    416\u001b[0m \u001b[38;5;124;03m\"\"\"Returns the shape of the arrays that would result from broadcasting the\u001b[39;00m\n\u001b[1;32m    417\u001b[0m \u001b[38;5;124;03msupplied arrays against each other.\u001b[39;00m\n\u001b[1;32m    418\u001b[0m \u001b[38;5;124;03m\"\"\"\u001b[39;00m\n\u001b[1;32m    419\u001b[0m \u001b[38;5;66;03m# use the old-iterator because np.nditer does not handle size 0 arrays\u001b[39;00m\n\u001b[1;32m    420\u001b[0m \u001b[38;5;66;03m# consistently\u001b[39;00m\n\u001b[0;32m--> 421\u001b[0m b \u001b[38;5;241m=\u001b[39m \u001b[43mnp\u001b[49m\u001b[38;5;241;43m.\u001b[39;49m\u001b[43mbroadcast\u001b[49m\u001b[43m(\u001b[49m\u001b[38;5;241;43m*\u001b[39;49m\u001b[43margs\u001b[49m\u001b[43m[\u001b[49m\u001b[43m:\u001b[49m\u001b[38;5;241;43m32\u001b[39;49m\u001b[43m]\u001b[49m\u001b[43m)\u001b[49m\n\u001b[1;32m    422\u001b[0m \u001b[38;5;66;03m# unfortunately, it cannot handle 32 or more arguments directly\u001b[39;00m\n\u001b[1;32m    423\u001b[0m \u001b[38;5;28;01mfor\u001b[39;00m pos \u001b[38;5;129;01min\u001b[39;00m \u001b[38;5;28mrange\u001b[39m(\u001b[38;5;241m32\u001b[39m, \u001b[38;5;28mlen\u001b[39m(args), \u001b[38;5;241m31\u001b[39m):\n\u001b[1;32m    424\u001b[0m     \u001b[38;5;66;03m# ironically, np.broadcast does not properly handle np.broadcast\u001b[39;00m\n\u001b[1;32m    425\u001b[0m     \u001b[38;5;66;03m# objects (it treats them as scalars)\u001b[39;00m\n\u001b[1;32m    426\u001b[0m     \u001b[38;5;66;03m# use broadcasting to avoid allocating the full array\u001b[39;00m\n",
      "\u001b[0;31mValueError\u001b[0m: shape mismatch: objects cannot be broadcast to a single shape.  Mismatch is between arg 0 with shape (8,) and arg 1 with shape (6,)."
     ]
    },
    {
     "data": {
      "image/png": "[encoded data removed]",
      "text/plain": [
       "<Figure size 432x288 with 1 Axes>"
      ]
     },
     "metadata": {
      "needs_background": "light"
     },
     "output_type": "display_data"
    }
   ],
   "source": [
    "#Plotting the figure\n",
    "plt.title('    Distribution of no. of rides during day/night and user')\n",
    "names = ['type0 D', 'type1 D', 'type2 D', 'type3 D', 'type0 N', 'type1 N', 'type2 N', 'type3 N']\n",
    "\n",
    "\n",
    "#total users\n",
    "values = list(day_user.values()) + list(night_user.values())\n",
    "plt.bar(names, values, width=1)\n",
    "plt.xlabel('User type and time of day', fontsize=20)\n",
    "plt.ylabel('Number of users', fontsize=16)\n",
    "plt.show()\n",
    "\n",
    "#procentage\n",
    "value_day = [x/day_data for x in list(day_user.values())]\n",
    "value_night= [x/night_data for x in list(night_user.values())]\n",
    "values = value_day+value_night\n",
    "plt.bar(names, values, width=1)\n",
    "plt.xlabel('User type and time of day', fontsize=20)\n",
    "plt.ylabel('Percentage of users', fontsize=16)\n",
    "plt.show()"
   ]
  },
  {
   "cell_type": "markdown",
   "id": "259b4302",
   "metadata": {},
   "source": [
    "As we mentioned previously, there are more rides in the day than in the night, so we are going to focus here on the percetage rather than the total number of riders. As we can see, type 0 (not defined type) is has the greatest percentage in the day and in the night (more or less 90%), whereas type 2 (occasional users) has a percentage of less than 10%.\n",
    "\n"
   ]
  },
  {
   "cell_type": "markdown",
   "id": "e78177bf",
   "metadata": {},
   "source": [
    "Now we are going to compare the ages of the bike users and compare them to see if there is any difference between day and night."
   ]
  },
  {
   "cell_type": "code",
   "execution_count": 41,
   "id": "3bc18a34",
   "metadata": {},
   "outputs": [
    {
     "name": "stderr",
     "output_type": "stream",
     "text": [
      "                                                                                \r"
     ]
    },
    {
     "data": {
      "text/plain": [
       "defaultdict(int,\n",
       "            {5: 57835,\n",
       "             0: 71343,\n",
       "             3: 20207,\n",
       "             4: 102091,\n",
       "             1: 7242,\n",
       "             2: 3586,\n",
       "             6: 1398})"
      ]
     },
     "execution_count": 41,
     "metadata": {},
     "output_type": "execute_result"
    }
   ],
   "source": [
    "#Separate by age range\n",
    "age_data = rdd['2018'].map(lambda x: x['age']).countByValue()\n",
    "age_data"
   ]
  },
  {
   "cell_type": "code",
   "execution_count": null,
   "id": "c96f8aef",
   "metadata": {},
   "outputs": [],
   "source": []
  },
  {
   "cell_type": "markdown",
   "id": "e65a8d96",
   "metadata": {},
   "source": [
    "\n",
    "\n",
    "\n",
    "Now we are going to compare the length of the bike rides and compare them to see if there is any difference between day and night."
   ]
  },
  {
   "cell_type": "code",
   "execution_count": 125,
   "id": "1f4d704a",
   "metadata": {},
   "outputs": [
    {
     "name": "stderr",
     "output_type": "stream",
     "text": [
      "                                                                                \r"
     ]
    },
    {
     "data": {
      "text/plain": [
       "1829"
      ]
     },
     "execution_count": 125,
     "metadata": {},
     "output_type": "execute_result"
    }
   ],
   "source": [
    "#Separate by age range\n",
    "age_data = rdd['2018'].map(lambda x: x['age']).countByValue()\n",
    "age_data = sorted(dict(age_data).items(), key=lambda x:x[0])\n",
    "age_data = [age_data[0][1], age_data[1][1], age_data[2][1], age_data[3][1], age_data[4][1], age_data[5][1], age_data[6][1]]\n"
   ]
  },
  {
   "cell_type": "code",
   "execution_count": 139,
   "id": "d61e81ae",
   "metadata": {},
   "outputs": [
    {
     "name": "stderr",
     "output_type": "stream",
     "text": [
      "                                                                                \r"
     ]
    },
    {
     "data": {
      "text/plain": [
       "5430"
      ]
     },
     "execution_count": 139,
     "metadata": {},
     "output_type": "execute_result"
    }
   ],
   "source": [
    "#Plotting the figure\n",
    "plt.title('Distribution of the age')\n",
    "names = ['0','1','2','3','4','5','6']\n",
    "values = age_data\n",
    "plt.bar(names, values)\n",
    "plt.xlabel('Age range', fontsize=18)\n",
    "plt.ylabel('Number of users', fontsize=16)\n",
    "names.sort()\n",
    "plt.xticks(names, ['0','1','2','3','4','5','6'] )\n",
    "plt.show()"
   ]
  },
  {
   "cell_type": "code",
   "execution_count": null,
   "id": "bc6c166d",
   "metadata": {},
   "outputs": [],
   "source": [
    "#Separation during the day with age range\n",
    "day_age = rdd_day.map(lambda x: x['age']).countByValue()"
   ]
  },
  {
   "cell_type": "code",
   "execution_count": null,
   "id": "4d46f0eb",
   "metadata": {},
   "outputs": [],
   "source": [
    "#Separation during the night with age range\n",
    "night_age = rdd_night.map(lambda x: x['age']).countByValue()"
   ]
  },
  {
   "cell_type": "code",
   "execution_count": null,
   "id": "f7b41704",
   "metadata": {},
   "outputs": [],
   "source": [
    "#Plotting the figure\n",
    "plt.figure(figsize=(12,8))\n",
    "plt.title('Distribution of no. of rides during day/night and age range')\n",
    "names = ['0 Day', '1 Day', '2 Day', '3 Day', '4 Day', '5 Day', '6 Day', '0 Night', '1 Night', '2 Night', '3 Night', '4 Night', '5 Night', '6 Night']\n",
    "\n",
    "#procentage\n",
    "value_day = [x/day_data for x in list(day_age.values())]\n",
    "value_night= [x/night_data for x in list(night_age.values())]\n",
    "values = value_day+value_night\n",
    "plt.bar(names, values, width=0.7)\n",
    "plt.xlabel('Age range and time of day', fontsize=18)\n",
    "plt.ylabel('Percentage of users', fontsize=16)\n",
    "plt.show()"
   ]
  },
  {
   "cell_type": "markdown",
   "id": "6fee8f9d",
   "metadata": {},
   "source": [
    "CONCLUSIONS,\n",
    "\n",
    "Comparig the range of ages of the riders in the day and in the night we can see a lot of differences. For example the young with 17-18 years old are the biggest users in the day, but this number drastically decreases in the night. Younger people from 0 to 16 years old are one of the biggest users both in the day and in the night. In addition the 'not defined' type increase by a lot in the night and the little number of users from 27 to 40 years old that use the bike in the day, go close to zero in the night. In the end the users from 19 to 26 years old usually use the bike more in the night."
   ]
  },
  {
   "cell_type": "code",
   "execution_count": 28,
   "id": "3ea5a61f",
   "metadata": {},
   "outputs": [],
   "source": [
    "sc.stop()"
   ]
  }
 ],
 "metadata": {
  "kernelspec": {
   "display_name": "Python 3 (ipykernel)",
   "language": "python",
   "name": "python3"
  },
  "language_info": {
   "codemirror_mode": {
    "name": "ipython",
    "version": 3
   },
   "file_extension": ".py",
   "mimetype": "text/x-python",
   "name": "python",
   "nbconvert_exporter": "python",
   "pygments_lexer": "ipython3",
   "version": "3.9.1"
  }
 },
 "nbformat": 4,
 "nbformat_minor": 5
}
